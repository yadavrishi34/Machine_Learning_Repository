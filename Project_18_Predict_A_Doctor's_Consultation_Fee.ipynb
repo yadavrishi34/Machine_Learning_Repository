{
  "nbformat": 4,
  "nbformat_minor": 0,
  "metadata": {
    "colab": {
      "name": "Project_18_Predict_A_Doctor's_Consultation_Fee.ipynb",
      "provenance": [],
      "collapsed_sections": [],
      "toc_visible": true,
      "authorship_tag": "ABX9TyMkxnEZYUPoEW5kUFSeyDGz",
      "include_colab_link": true
    },
    "kernelspec": {
      "name": "python3",
      "display_name": "Python 3"
    },
    "accelerator": "GPU"
  },
  "cells": [
    {
      "cell_type": "markdown",
      "metadata": {
        "id": "view-in-github",
        "colab_type": "text"
      },
      "source": [
        "<a href=\"https://colab.research.google.com/github/yadavrishi34/Machine_Learning_Repository/blob/master/Project_18_Predict_A_Doctor's_Consultation_Fee.ipynb\" target=\"_parent\"><img src=\"https://colab.research.google.com/assets/colab-badge.svg\" alt=\"Open In Colab\"/></a>"
      ]
    },
    {
      "cell_type": "markdown",
      "metadata": {
        "id": "kFBDs-1Kcwb-",
        "colab_type": "text"
      },
      "source": [
        "# Predict A Doctor's Consultation Fee \n",
        "\n",
        "\n",
        "\n",
        "We have all been in situation where we go to a doctor in emergency and find that the consultation fees are too high. As a data scientist we all should do better. What if you have data that records important details about a doctor and you get to build a model to predict the doctor’s consulting fee.? This is the hackathon that lets you do that.\n",
        "\n",
        "\n",
        "\n",
        "Size of training set: 5961 records\n",
        "\n",
        "Size of test set: 1987 records\n",
        "\n",
        "FEATURES:\n",
        "\n",
        "Qualification: Qualification and degrees held by the doctor\n",
        "\n",
        "Experience: Experience of the doctor in number of years\n",
        "\n",
        "Rating: Rating given by patients\n",
        "\n",
        "Profile: Type of the doctor\n",
        "\n",
        "Miscellaeous_Info: Extra information about the doctor\n",
        "\n",
        "Fees: Fees charged by the doctor\n",
        "\n",
        "Place: Area and the city where the doctor is located.\n",
        "\n",
        "\n",
        "\n",
        "https://github.com/dsrscientist/Data-Science-ML-Capstone-Projects"
      ]
    },
    {
      "cell_type": "code",
      "metadata": {
        "id": "-qG1rLmHbN5f",
        "colab_type": "code",
        "colab": {
          "base_uri": "https://localhost:8080/",
          "height": 34
        },
        "outputId": "8562e2c9-0a9d-4aa8-e263-6692210e9af5"
      },
      "source": [
        "#get acess google drive data into google colab\n",
        "\n",
        "from google.colab import drive\n",
        "drive.mount('/content/drive')"
      ],
      "execution_count": 1,
      "outputs": [
        {
          "output_type": "stream",
          "text": [
            "Drive already mounted at /content/drive; to attempt to forcibly remount, call drive.mount(\"/content/drive\", force_remount=True).\n"
          ],
          "name": "stdout"
        }
      ]
    },
    {
      "cell_type": "code",
      "metadata": {
        "id": "m4Y4DwKCc5TK",
        "colab_type": "code",
        "colab": {
          "base_uri": "https://localhost:8080/",
          "height": 52
        },
        "outputId": "30b73acf-b9c5-44e6-a613-e9bd63203fac"
      },
      "source": [
        "import pandas as pd\n",
        "\n",
        "import numpy as np\n",
        "\n",
        "import seaborn as sns\n",
        "\n",
        "import matplotlib.pyplot as plt\n",
        "\n",
        "import seaborn as sns\n",
        "\n",
        "import warnings\n",
        "warnings.filterwarnings('ignore')"
      ],
      "execution_count": 2,
      "outputs": [
        {
          "output_type": "stream",
          "text": [
            "/usr/local/lib/python3.6/dist-packages/statsmodels/tools/_testing.py:19: FutureWarning: pandas.util.testing is deprecated. Use the functions in the public API at pandas.testing instead.\n",
            "  import pandas.util.testing as tm\n"
          ],
          "name": "stderr"
        }
      ]
    },
    {
      "cell_type": "code",
      "metadata": {
        "id": "e9fTHh_JdJ7N",
        "colab_type": "code",
        "colab": {
          "base_uri": "https://localhost:8080/",
          "height": 406
        },
        "outputId": "68ddfd54-e885-4344-dbb1-3c42cdfb991a"
      },
      "source": [
        "df_train=pd.read_excel (r'/content/Dr_Cons_Final_Train.xlsx',sep=',',na_values=\".\")\n",
        "df_train[\"source\"]=\"train\"\n",
        "df_test=pd.read_excel (r'/content/Dr_Cons_Final_Test.xlsx',sep=',',na_values=\".\")\n",
        "df_test[\"source\"]=\"test\"\n",
        "df_doc=pd.concat([df_train,df_test])\n",
        "df_doc"
      ],
      "execution_count": 3,
      "outputs": [
        {
          "output_type": "execute_result",
          "data": {
            "text/html": [
              "<div>\n",
              "<style scoped>\n",
              "    .dataframe tbody tr th:only-of-type {\n",
              "        vertical-align: middle;\n",
              "    }\n",
              "\n",
              "    .dataframe tbody tr th {\n",
              "        vertical-align: top;\n",
              "    }\n",
              "\n",
              "    .dataframe thead th {\n",
              "        text-align: right;\n",
              "    }\n",
              "</style>\n",
              "<table border=\"1\" class=\"dataframe\">\n",
              "  <thead>\n",
              "    <tr style=\"text-align: right;\">\n",
              "      <th></th>\n",
              "      <th>Qualification</th>\n",
              "      <th>Experience</th>\n",
              "      <th>Rating</th>\n",
              "      <th>Place</th>\n",
              "      <th>Profile</th>\n",
              "      <th>Miscellaneous_Info</th>\n",
              "      <th>Fees</th>\n",
              "      <th>source</th>\n",
              "    </tr>\n",
              "  </thead>\n",
              "  <tbody>\n",
              "    <tr>\n",
              "      <th>0</th>\n",
              "      <td>BHMS, MD - Homeopathy</td>\n",
              "      <td>24 years experience</td>\n",
              "      <td>100%</td>\n",
              "      <td>Kakkanad, Ernakulam</td>\n",
              "      <td>Homeopath</td>\n",
              "      <td>100% 16 Feedback Kakkanad, Ernakulam</td>\n",
              "      <td>100.0</td>\n",
              "      <td>train</td>\n",
              "    </tr>\n",
              "    <tr>\n",
              "      <th>1</th>\n",
              "      <td>BAMS, MD - Ayurveda Medicine</td>\n",
              "      <td>12 years experience</td>\n",
              "      <td>98%</td>\n",
              "      <td>Whitefield, Bangalore</td>\n",
              "      <td>Ayurveda</td>\n",
              "      <td>98% 76 Feedback Whitefield, Bangalore</td>\n",
              "      <td>350.0</td>\n",
              "      <td>train</td>\n",
              "    </tr>\n",
              "    <tr>\n",
              "      <th>2</th>\n",
              "      <td>MBBS, MS - Otorhinolaryngology</td>\n",
              "      <td>9 years experience</td>\n",
              "      <td>NaN</td>\n",
              "      <td>Mathikere - BEL, Bangalore</td>\n",
              "      <td>ENT Specialist</td>\n",
              "      <td>NaN</td>\n",
              "      <td>300.0</td>\n",
              "      <td>train</td>\n",
              "    </tr>\n",
              "    <tr>\n",
              "      <th>3</th>\n",
              "      <td>BSc - Zoology, BAMS</td>\n",
              "      <td>12 years experience</td>\n",
              "      <td>NaN</td>\n",
              "      <td>Bannerghatta Road, Bangalore</td>\n",
              "      <td>Ayurveda</td>\n",
              "      <td>Bannerghatta Road, Bangalore ₹250 Available on...</td>\n",
              "      <td>250.0</td>\n",
              "      <td>train</td>\n",
              "    </tr>\n",
              "    <tr>\n",
              "      <th>4</th>\n",
              "      <td>BAMS</td>\n",
              "      <td>20 years experience</td>\n",
              "      <td>100%</td>\n",
              "      <td>Keelkattalai, Chennai</td>\n",
              "      <td>Ayurveda</td>\n",
              "      <td>100% 4 Feedback Keelkattalai, Chennai</td>\n",
              "      <td>250.0</td>\n",
              "      <td>train</td>\n",
              "    </tr>\n",
              "    <tr>\n",
              "      <th>...</th>\n",
              "      <td>...</td>\n",
              "      <td>...</td>\n",
              "      <td>...</td>\n",
              "      <td>...</td>\n",
              "      <td>...</td>\n",
              "      <td>...</td>\n",
              "      <td>...</td>\n",
              "      <td>...</td>\n",
              "    </tr>\n",
              "    <tr>\n",
              "      <th>1982</th>\n",
              "      <td>BAMS, Doctor of Medicine</td>\n",
              "      <td>10 years experience</td>\n",
              "      <td>NaN</td>\n",
              "      <td>Basavanagudi, Bangalore</td>\n",
              "      <td>Ayurveda</td>\n",
              "      <td>NaN</td>\n",
              "      <td>NaN</td>\n",
              "      <td>test</td>\n",
              "    </tr>\n",
              "    <tr>\n",
              "      <th>1983</th>\n",
              "      <td>MD - Dermatology , Venereology &amp; Leprosy, MBBS</td>\n",
              "      <td>4 years experience</td>\n",
              "      <td>NaN</td>\n",
              "      <td>Choolai, Chennai</td>\n",
              "      <td>Dermatologists</td>\n",
              "      <td>NaN</td>\n",
              "      <td>NaN</td>\n",
              "      <td>test</td>\n",
              "    </tr>\n",
              "    <tr>\n",
              "      <th>1984</th>\n",
              "      <td>MBBS, MD / MS - Obstetrics &amp; Gynaecology</td>\n",
              "      <td>9 years experience</td>\n",
              "      <td>NaN</td>\n",
              "      <td>Porur, Chennai</td>\n",
              "      <td>General Medicine</td>\n",
              "      <td>NaN</td>\n",
              "      <td>NaN</td>\n",
              "      <td>test</td>\n",
              "    </tr>\n",
              "    <tr>\n",
              "      <th>1985</th>\n",
              "      <td>BDS</td>\n",
              "      <td>12 years experience</td>\n",
              "      <td>98%</td>\n",
              "      <td>Arekere, Bangalore</td>\n",
              "      <td>Dentist</td>\n",
              "      <td>RCT - Root Canal Treatment Root Canal Treatmen...</td>\n",
              "      <td>NaN</td>\n",
              "      <td>test</td>\n",
              "    </tr>\n",
              "    <tr>\n",
              "      <th>1986</th>\n",
              "      <td>MBBS, MD - Dermatology , Venereology &amp; Leprosy</td>\n",
              "      <td>8 years experience</td>\n",
              "      <td>NaN</td>\n",
              "      <td>Pallikaranai, Chennai</td>\n",
              "      <td>Dermatologists</td>\n",
              "      <td>1 Feedback Pallikaranai, Chennai ₹500</td>\n",
              "      <td>NaN</td>\n",
              "      <td>test</td>\n",
              "    </tr>\n",
              "  </tbody>\n",
              "</table>\n",
              "<p>7948 rows × 8 columns</p>\n",
              "</div>"
            ],
            "text/plain": [
              "                                       Qualification  ... source\n",
              "0                              BHMS, MD - Homeopathy  ...  train\n",
              "1                       BAMS, MD - Ayurveda Medicine  ...  train\n",
              "2                     MBBS, MS - Otorhinolaryngology  ...  train\n",
              "3                                BSc - Zoology, BAMS  ...  train\n",
              "4                                               BAMS  ...  train\n",
              "...                                              ...  ...    ...\n",
              "1982                        BAMS, Doctor of Medicine  ...   test\n",
              "1983  MD - Dermatology , Venereology & Leprosy, MBBS  ...   test\n",
              "1984        MBBS, MD / MS - Obstetrics & Gynaecology  ...   test\n",
              "1985                                             BDS  ...   test\n",
              "1986  MBBS, MD - Dermatology , Venereology & Leprosy  ...   test\n",
              "\n",
              "[7948 rows x 8 columns]"
            ]
          },
          "metadata": {
            "tags": []
          },
          "execution_count": 3
        }
      ]
    },
    {
      "cell_type": "code",
      "metadata": {
        "id": "4ABgAjHMdrhe",
        "colab_type": "code",
        "colab": {}
      },
      "source": [
        "#lets reset the index\n",
        "df_doc.reset_index(drop=True,inplace=True)"
      ],
      "execution_count": 4,
      "outputs": []
    },
    {
      "cell_type": "code",
      "metadata": {
        "id": "XBOZpXtZdueV",
        "colab_type": "code",
        "colab": {
          "base_uri": "https://localhost:8080/",
          "height": 406
        },
        "outputId": "5621d9cd-acc6-41de-ad73-1bed3f66155e"
      },
      "source": [
        "#displaying the data\n",
        "df_doc"
      ],
      "execution_count": 5,
      "outputs": [
        {
          "output_type": "execute_result",
          "data": {
            "text/html": [
              "<div>\n",
              "<style scoped>\n",
              "    .dataframe tbody tr th:only-of-type {\n",
              "        vertical-align: middle;\n",
              "    }\n",
              "\n",
              "    .dataframe tbody tr th {\n",
              "        vertical-align: top;\n",
              "    }\n",
              "\n",
              "    .dataframe thead th {\n",
              "        text-align: right;\n",
              "    }\n",
              "</style>\n",
              "<table border=\"1\" class=\"dataframe\">\n",
              "  <thead>\n",
              "    <tr style=\"text-align: right;\">\n",
              "      <th></th>\n",
              "      <th>Qualification</th>\n",
              "      <th>Experience</th>\n",
              "      <th>Rating</th>\n",
              "      <th>Place</th>\n",
              "      <th>Profile</th>\n",
              "      <th>Miscellaneous_Info</th>\n",
              "      <th>Fees</th>\n",
              "      <th>source</th>\n",
              "    </tr>\n",
              "  </thead>\n",
              "  <tbody>\n",
              "    <tr>\n",
              "      <th>0</th>\n",
              "      <td>BHMS, MD - Homeopathy</td>\n",
              "      <td>24 years experience</td>\n",
              "      <td>100%</td>\n",
              "      <td>Kakkanad, Ernakulam</td>\n",
              "      <td>Homeopath</td>\n",
              "      <td>100% 16 Feedback Kakkanad, Ernakulam</td>\n",
              "      <td>100.0</td>\n",
              "      <td>train</td>\n",
              "    </tr>\n",
              "    <tr>\n",
              "      <th>1</th>\n",
              "      <td>BAMS, MD - Ayurveda Medicine</td>\n",
              "      <td>12 years experience</td>\n",
              "      <td>98%</td>\n",
              "      <td>Whitefield, Bangalore</td>\n",
              "      <td>Ayurveda</td>\n",
              "      <td>98% 76 Feedback Whitefield, Bangalore</td>\n",
              "      <td>350.0</td>\n",
              "      <td>train</td>\n",
              "    </tr>\n",
              "    <tr>\n",
              "      <th>2</th>\n",
              "      <td>MBBS, MS - Otorhinolaryngology</td>\n",
              "      <td>9 years experience</td>\n",
              "      <td>NaN</td>\n",
              "      <td>Mathikere - BEL, Bangalore</td>\n",
              "      <td>ENT Specialist</td>\n",
              "      <td>NaN</td>\n",
              "      <td>300.0</td>\n",
              "      <td>train</td>\n",
              "    </tr>\n",
              "    <tr>\n",
              "      <th>3</th>\n",
              "      <td>BSc - Zoology, BAMS</td>\n",
              "      <td>12 years experience</td>\n",
              "      <td>NaN</td>\n",
              "      <td>Bannerghatta Road, Bangalore</td>\n",
              "      <td>Ayurveda</td>\n",
              "      <td>Bannerghatta Road, Bangalore ₹250 Available on...</td>\n",
              "      <td>250.0</td>\n",
              "      <td>train</td>\n",
              "    </tr>\n",
              "    <tr>\n",
              "      <th>4</th>\n",
              "      <td>BAMS</td>\n",
              "      <td>20 years experience</td>\n",
              "      <td>100%</td>\n",
              "      <td>Keelkattalai, Chennai</td>\n",
              "      <td>Ayurveda</td>\n",
              "      <td>100% 4 Feedback Keelkattalai, Chennai</td>\n",
              "      <td>250.0</td>\n",
              "      <td>train</td>\n",
              "    </tr>\n",
              "    <tr>\n",
              "      <th>...</th>\n",
              "      <td>...</td>\n",
              "      <td>...</td>\n",
              "      <td>...</td>\n",
              "      <td>...</td>\n",
              "      <td>...</td>\n",
              "      <td>...</td>\n",
              "      <td>...</td>\n",
              "      <td>...</td>\n",
              "    </tr>\n",
              "    <tr>\n",
              "      <th>7943</th>\n",
              "      <td>BAMS, Doctor of Medicine</td>\n",
              "      <td>10 years experience</td>\n",
              "      <td>NaN</td>\n",
              "      <td>Basavanagudi, Bangalore</td>\n",
              "      <td>Ayurveda</td>\n",
              "      <td>NaN</td>\n",
              "      <td>NaN</td>\n",
              "      <td>test</td>\n",
              "    </tr>\n",
              "    <tr>\n",
              "      <th>7944</th>\n",
              "      <td>MD - Dermatology , Venereology &amp; Leprosy, MBBS</td>\n",
              "      <td>4 years experience</td>\n",
              "      <td>NaN</td>\n",
              "      <td>Choolai, Chennai</td>\n",
              "      <td>Dermatologists</td>\n",
              "      <td>NaN</td>\n",
              "      <td>NaN</td>\n",
              "      <td>test</td>\n",
              "    </tr>\n",
              "    <tr>\n",
              "      <th>7945</th>\n",
              "      <td>MBBS, MD / MS - Obstetrics &amp; Gynaecology</td>\n",
              "      <td>9 years experience</td>\n",
              "      <td>NaN</td>\n",
              "      <td>Porur, Chennai</td>\n",
              "      <td>General Medicine</td>\n",
              "      <td>NaN</td>\n",
              "      <td>NaN</td>\n",
              "      <td>test</td>\n",
              "    </tr>\n",
              "    <tr>\n",
              "      <th>7946</th>\n",
              "      <td>BDS</td>\n",
              "      <td>12 years experience</td>\n",
              "      <td>98%</td>\n",
              "      <td>Arekere, Bangalore</td>\n",
              "      <td>Dentist</td>\n",
              "      <td>RCT - Root Canal Treatment Root Canal Treatmen...</td>\n",
              "      <td>NaN</td>\n",
              "      <td>test</td>\n",
              "    </tr>\n",
              "    <tr>\n",
              "      <th>7947</th>\n",
              "      <td>MBBS, MD - Dermatology , Venereology &amp; Leprosy</td>\n",
              "      <td>8 years experience</td>\n",
              "      <td>NaN</td>\n",
              "      <td>Pallikaranai, Chennai</td>\n",
              "      <td>Dermatologists</td>\n",
              "      <td>1 Feedback Pallikaranai, Chennai ₹500</td>\n",
              "      <td>NaN</td>\n",
              "      <td>test</td>\n",
              "    </tr>\n",
              "  </tbody>\n",
              "</table>\n",
              "<p>7948 rows × 8 columns</p>\n",
              "</div>"
            ],
            "text/plain": [
              "                                       Qualification  ... source\n",
              "0                              BHMS, MD - Homeopathy  ...  train\n",
              "1                       BAMS, MD - Ayurveda Medicine  ...  train\n",
              "2                     MBBS, MS - Otorhinolaryngology  ...  train\n",
              "3                                BSc - Zoology, BAMS  ...  train\n",
              "4                                               BAMS  ...  train\n",
              "...                                              ...  ...    ...\n",
              "7943                        BAMS, Doctor of Medicine  ...   test\n",
              "7944  MD - Dermatology , Venereology & Leprosy, MBBS  ...   test\n",
              "7945        MBBS, MD / MS - Obstetrics & Gynaecology  ...   test\n",
              "7946                                             BDS  ...   test\n",
              "7947  MBBS, MD - Dermatology , Venereology & Leprosy  ...   test\n",
              "\n",
              "[7948 rows x 8 columns]"
            ]
          },
          "metadata": {
            "tags": []
          },
          "execution_count": 5
        }
      ]
    },
    {
      "cell_type": "code",
      "metadata": {
        "id": "RHYr4R4u6hVB",
        "colab_type": "code",
        "colab": {
          "base_uri": "https://localhost:8080/",
          "height": 283
        },
        "outputId": "9aa3833b-1c6c-493a-8e5a-fb9767a02425"
      },
      "source": [
        "df_doc.info()"
      ],
      "execution_count": 6,
      "outputs": [
        {
          "output_type": "stream",
          "text": [
            "<class 'pandas.core.frame.DataFrame'>\n",
            "RangeIndex: 7948 entries, 0 to 7947\n",
            "Data columns (total 8 columns):\n",
            " #   Column              Non-Null Count  Dtype  \n",
            "---  ------              --------------  -----  \n",
            " 0   Qualification       7948 non-null   object \n",
            " 1   Experience          7948 non-null   object \n",
            " 2   Rating              3556 non-null   object \n",
            " 3   Place               7917 non-null   object \n",
            " 4   Profile             7948 non-null   object \n",
            " 5   Miscellaneous_Info  4494 non-null   object \n",
            " 6   Fees                5961 non-null   float64\n",
            " 7   source              7948 non-null   object \n",
            "dtypes: float64(1), object(7)\n",
            "memory usage: 496.9+ KB\n"
          ],
          "name": "stdout"
        }
      ]
    },
    {
      "cell_type": "code",
      "metadata": {
        "id": "AWH_1m6ce1Jc",
        "colab_type": "code",
        "colab": {
          "base_uri": "https://localhost:8080/",
          "height": 176
        },
        "outputId": "5cd5af9c-9716-4c79-9617-f8d7a652d8fa"
      },
      "source": [
        "#lets chcek the null values\n",
        "df_doc.isnull().sum()"
      ],
      "execution_count": 7,
      "outputs": [
        {
          "output_type": "execute_result",
          "data": {
            "text/plain": [
              "Qualification            0\n",
              "Experience               0\n",
              "Rating                4392\n",
              "Place                   31\n",
              "Profile                  0\n",
              "Miscellaneous_Info    3454\n",
              "Fees                  1987\n",
              "source                   0\n",
              "dtype: int64"
            ]
          },
          "metadata": {
            "tags": []
          },
          "execution_count": 7
        }
      ]
    },
    {
      "cell_type": "code",
      "metadata": {
        "id": "jTWNdppxfAzl",
        "colab_type": "code",
        "colab": {
          "base_uri": "https://localhost:8080/",
          "height": 1000
        },
        "outputId": "b179b0f7-5992-4468-8d6f-78016d419a67"
      },
      "source": [
        "#Lets chcek the value counts of object type columns\n",
        "for col in df_doc.columns:\n",
        "    if df_doc[col].dtype==\"object\":\n",
        "        print(df_doc[col].value_counts())\n",
        "        print()"
      ],
      "execution_count": 8,
      "outputs": [
        {
          "output_type": "stream",
          "text": [
            "BDS                                                                                                                                                                                   632\n",
            "BHMS                                                                                                                                                                                  627\n",
            "BAMS                                                                                                                                                                                  624\n",
            "MBBS                                                                                                                                                                                  441\n",
            "MBBS, MS - ENT                                                                                                                                                                        280\n",
            "                                                                                                                                                                                     ... \n",
            "FCPS - Dermatology, Venereology & Leprosy, DVD, DDV, MBBS                                                                                                                               1\n",
            "MS - Ayurveda, Diploma in Gynaecology & Obstetrics, Diploma in Aesthetic Medicine                                                                                                       1\n",
            "MBBS, Master of Public Health (MPH), MD - Internal Medicine                                                                                                                             1\n",
            "BAMS, Certified Yoga and Pranic healing Therapist , Certified National Diabetes Educator , Bachelor of Acupuncture , Certified Analytical Hypnotherapist, Diploma in Physiotherapy      1\n",
            "MBBS, DNB - Respiratory Diseases, FCCP - Pulmonary Medicine, DAA - Diploma in Allergy Asthma and Immunology, P.G Diploma in Diabetes Management, Fellowship in Clinical Cardiology      1\n",
            "Name: Qualification, Length: 1801, dtype: int64\n",
            "\n",
            "9 years experience     419\n",
            "10 years experience    404\n",
            "8 years experience     380\n",
            "11 years experience    374\n",
            "12 years experience    358\n",
            "                      ... \n",
            "61 years experience      1\n",
            "58 years experience      1\n",
            "66 years experience      1\n",
            "64 years experience      1\n",
            "60 years experience      1\n",
            "Name: Experience, Length: 64, dtype: int64\n",
            "\n",
            "100%    907\n",
            "98%     402\n",
            "99%     327\n",
            "97%     325\n",
            "96%     285\n",
            "95%     225\n",
            "94%     166\n",
            "93%     143\n",
            "90%      95\n",
            "92%      95\n",
            "91%      86\n",
            "88%      54\n",
            "89%      53\n",
            "85%      35\n",
            "82%      32\n",
            "83%      32\n",
            "86%      27\n",
            "80%      26\n",
            "87%      25\n",
            "84%      20\n",
            "77%      17\n",
            "67%      17\n",
            "71%      16\n",
            "79%      15\n",
            "81%      15\n",
            "76%      13\n",
            "73%      13\n",
            "60%      11\n",
            "75%       8\n",
            "70%       8\n",
            "78%       7\n",
            "74%       7\n",
            "69%       6\n",
            "68%       5\n",
            "56%       5\n",
            "55%       5\n",
            "64%       4\n",
            "72%       3\n",
            "57%       3\n",
            "33%       2\n",
            "62%       2\n",
            "65%       2\n",
            "63%       2\n",
            "53%       2\n",
            "40%       1\n",
            "47%       1\n",
            "45%       1\n",
            "52%       1\n",
            "58%       1\n",
            "48%       1\n",
            "36%       1\n",
            "7%        1\n",
            "Name: Rating, dtype: int64\n",
            "\n",
            "Andheri West, Mumbai         97\n",
            "HSR Layout, Bangalore        97\n",
            "Dwarka, Delhi                93\n",
            "Banjara Hills, Hyderabad     85\n",
            "Mulund West, Mumbai          81\n",
            "                             ..\n",
            "Dwarka Sector 12, Delhi       1\n",
            "Kakkanad West, Ernakulam      1\n",
            "Jamia Nagar, Delhi            1\n",
            "Gorai, Mumbai                 1\n",
            "IDA Jeedimetla, Hyderabad     1\n",
            "Name: Place, Length: 948, dtype: int64\n",
            "\n",
            "Dentist             1838\n",
            "General Medicine    1617\n",
            "Dermatologists      1373\n",
            "Homeopath           1120\n",
            "Ayurveda            1037\n",
            "ENT Specialist       963\n",
            "Name: Profile, dtype: int64\n",
            "\n",
            "Acrylic Partial Denture Crowns and Bridges Fixing Artificial Teeth    50\n",
            "Skin Allergy Treatment Skin Allergies Dermabrasion                    18\n",
            "Tooth Extraction Dental Fillings Scaling / Polishing                  16\n",
            "Dental Fillings Zirconia Crowns Dental Implant Fixing                 15\n",
            "Dermabrasion Laser Resurfacing Acne / Pimples Treatment               14\n",
            "                                                                      ..\n",
            "95% 19 Feedback BTM Layout, Bangalore                                  1\n",
            "100% 11 Feedback Kandivali West, Mumbai                                1\n",
            "98% 14 Feedback Coimbatore Racecourse, Coimbatore                      1\n",
            "95% 90 Feedback Ashok Vihar, Delhi                                     1\n",
            "97% 29 Feedback Kaggadasapura, Bangalore                               1\n",
            "Name: Miscellaneous_Info, Length: 3980, dtype: int64\n",
            "\n",
            "train    5961\n",
            "test     1987\n",
            "Name: source, dtype: int64\n",
            "\n"
          ],
          "name": "stdout"
        }
      ]
    },
    {
      "cell_type": "code",
      "metadata": {
        "id": "7Wv5tDvmfDfN",
        "colab_type": "code",
        "colab": {}
      },
      "source": [
        "# drop miscellaneous data\n",
        "df_doc[\"Miscellaneous_Info\"].fillna(\"missing\",inplace=True)"
      ],
      "execution_count": 9,
      "outputs": []
    },
    {
      "cell_type": "code",
      "metadata": {
        "id": "KUBu_KvNfceF",
        "colab_type": "code",
        "colab": {
          "base_uri": "https://localhost:8080/",
          "height": 197
        },
        "outputId": "73c12088-1a28-4407-faa4-d0fa8dc233de"
      },
      "source": [
        "df_doc.head()"
      ],
      "execution_count": 10,
      "outputs": [
        {
          "output_type": "execute_result",
          "data": {
            "text/html": [
              "<div>\n",
              "<style scoped>\n",
              "    .dataframe tbody tr th:only-of-type {\n",
              "        vertical-align: middle;\n",
              "    }\n",
              "\n",
              "    .dataframe tbody tr th {\n",
              "        vertical-align: top;\n",
              "    }\n",
              "\n",
              "    .dataframe thead th {\n",
              "        text-align: right;\n",
              "    }\n",
              "</style>\n",
              "<table border=\"1\" class=\"dataframe\">\n",
              "  <thead>\n",
              "    <tr style=\"text-align: right;\">\n",
              "      <th></th>\n",
              "      <th>Qualification</th>\n",
              "      <th>Experience</th>\n",
              "      <th>Rating</th>\n",
              "      <th>Place</th>\n",
              "      <th>Profile</th>\n",
              "      <th>Miscellaneous_Info</th>\n",
              "      <th>Fees</th>\n",
              "      <th>source</th>\n",
              "    </tr>\n",
              "  </thead>\n",
              "  <tbody>\n",
              "    <tr>\n",
              "      <th>0</th>\n",
              "      <td>BHMS, MD - Homeopathy</td>\n",
              "      <td>24 years experience</td>\n",
              "      <td>100%</td>\n",
              "      <td>Kakkanad, Ernakulam</td>\n",
              "      <td>Homeopath</td>\n",
              "      <td>100% 16 Feedback Kakkanad, Ernakulam</td>\n",
              "      <td>100.0</td>\n",
              "      <td>train</td>\n",
              "    </tr>\n",
              "    <tr>\n",
              "      <th>1</th>\n",
              "      <td>BAMS, MD - Ayurveda Medicine</td>\n",
              "      <td>12 years experience</td>\n",
              "      <td>98%</td>\n",
              "      <td>Whitefield, Bangalore</td>\n",
              "      <td>Ayurveda</td>\n",
              "      <td>98% 76 Feedback Whitefield, Bangalore</td>\n",
              "      <td>350.0</td>\n",
              "      <td>train</td>\n",
              "    </tr>\n",
              "    <tr>\n",
              "      <th>2</th>\n",
              "      <td>MBBS, MS - Otorhinolaryngology</td>\n",
              "      <td>9 years experience</td>\n",
              "      <td>NaN</td>\n",
              "      <td>Mathikere - BEL, Bangalore</td>\n",
              "      <td>ENT Specialist</td>\n",
              "      <td>missing</td>\n",
              "      <td>300.0</td>\n",
              "      <td>train</td>\n",
              "    </tr>\n",
              "    <tr>\n",
              "      <th>3</th>\n",
              "      <td>BSc - Zoology, BAMS</td>\n",
              "      <td>12 years experience</td>\n",
              "      <td>NaN</td>\n",
              "      <td>Bannerghatta Road, Bangalore</td>\n",
              "      <td>Ayurveda</td>\n",
              "      <td>Bannerghatta Road, Bangalore ₹250 Available on...</td>\n",
              "      <td>250.0</td>\n",
              "      <td>train</td>\n",
              "    </tr>\n",
              "    <tr>\n",
              "      <th>4</th>\n",
              "      <td>BAMS</td>\n",
              "      <td>20 years experience</td>\n",
              "      <td>100%</td>\n",
              "      <td>Keelkattalai, Chennai</td>\n",
              "      <td>Ayurveda</td>\n",
              "      <td>100% 4 Feedback Keelkattalai, Chennai</td>\n",
              "      <td>250.0</td>\n",
              "      <td>train</td>\n",
              "    </tr>\n",
              "  </tbody>\n",
              "</table>\n",
              "</div>"
            ],
            "text/plain": [
              "                    Qualification           Experience  ...   Fees source\n",
              "0           BHMS, MD - Homeopathy  24 years experience  ...  100.0  train\n",
              "1    BAMS, MD - Ayurveda Medicine  12 years experience  ...  350.0  train\n",
              "2  MBBS, MS - Otorhinolaryngology   9 years experience  ...  300.0  train\n",
              "3             BSc - Zoology, BAMS  12 years experience  ...  250.0  train\n",
              "4                            BAMS  20 years experience  ...  250.0  train\n",
              "\n",
              "[5 rows x 8 columns]"
            ]
          },
          "metadata": {
            "tags": []
          },
          "execution_count": 10
        }
      ]
    },
    {
      "cell_type": "code",
      "metadata": {
        "id": "Kw_5-C7Eff4l",
        "colab_type": "code",
        "colab": {}
      },
      "source": [
        "#At fisrt we need to strip of \" years experience\"\n",
        "df_doc[\"Experience\"]=df_doc[\"Experience\"].str.strip(\" years experience\")"
      ],
      "execution_count": 11,
      "outputs": []
    },
    {
      "cell_type": "code",
      "metadata": {
        "id": "TdZdIoXSfvzU",
        "colab_type": "code",
        "colab": {
          "base_uri": "https://localhost:8080/",
          "height": 230
        },
        "outputId": "478a227f-36b3-4fe7-8b6d-1511e9f344c2"
      },
      "source": [
        "#lets see the Experice column\n",
        "df_doc[\"Experience\"]"
      ],
      "execution_count": 12,
      "outputs": [
        {
          "output_type": "execute_result",
          "data": {
            "text/plain": [
              "0       24\n",
              "1       12\n",
              "2        9\n",
              "3       12\n",
              "4       20\n",
              "        ..\n",
              "7943    10\n",
              "7944     4\n",
              "7945     9\n",
              "7946    12\n",
              "7947     8\n",
              "Name: Experience, Length: 7948, dtype: object"
            ]
          },
          "metadata": {
            "tags": []
          },
          "execution_count": 12
        }
      ]
    },
    {
      "cell_type": "code",
      "metadata": {
        "id": "1bi2f8x1fxPW",
        "colab_type": "code",
        "colab": {}
      },
      "source": [
        "#Now we need to convert the Experience column to int\n",
        "df_doc[\"Experience\"]=df_doc[\"Experience\"].astype(int)"
      ],
      "execution_count": 13,
      "outputs": []
    },
    {
      "cell_type": "code",
      "metadata": {
        "id": "YuEdramnfzwB",
        "colab_type": "code",
        "colab": {
          "base_uri": "https://localhost:8080/",
          "height": 176
        },
        "outputId": "23889dfd-875f-4daf-bfba-611182783d45"
      },
      "source": [
        "#lets chcek the datatype of the columns in datasets\n",
        "df_doc.dtypes"
      ],
      "execution_count": 14,
      "outputs": [
        {
          "output_type": "execute_result",
          "data": {
            "text/plain": [
              "Qualification          object\n",
              "Experience              int64\n",
              "Rating                 object\n",
              "Place                  object\n",
              "Profile                object\n",
              "Miscellaneous_Info     object\n",
              "Fees                  float64\n",
              "source                 object\n",
              "dtype: object"
            ]
          },
          "metadata": {
            "tags": []
          },
          "execution_count": 14
        }
      ]
    },
    {
      "cell_type": "code",
      "metadata": {
        "id": "YdzNzitIf1ZC",
        "colab_type": "code",
        "colab": {
          "base_uri": "https://localhost:8080/",
          "height": 257
        },
        "outputId": "48c13857-55e9-465d-b59d-2c2c35c23c9f"
      },
      "source": [
        "#Rating grouped by profile\n",
        "df_doc.groupby([\"Profile\"]).agg({\"Rating\":lambda x: x.value_counts().index[0]})"
      ],
      "execution_count": 15,
      "outputs": [
        {
          "output_type": "execute_result",
          "data": {
            "text/html": [
              "<div>\n",
              "<style scoped>\n",
              "    .dataframe tbody tr th:only-of-type {\n",
              "        vertical-align: middle;\n",
              "    }\n",
              "\n",
              "    .dataframe tbody tr th {\n",
              "        vertical-align: top;\n",
              "    }\n",
              "\n",
              "    .dataframe thead th {\n",
              "        text-align: right;\n",
              "    }\n",
              "</style>\n",
              "<table border=\"1\" class=\"dataframe\">\n",
              "  <thead>\n",
              "    <tr style=\"text-align: right;\">\n",
              "      <th></th>\n",
              "      <th>Rating</th>\n",
              "    </tr>\n",
              "    <tr>\n",
              "      <th>Profile</th>\n",
              "      <th></th>\n",
              "    </tr>\n",
              "  </thead>\n",
              "  <tbody>\n",
              "    <tr>\n",
              "      <th>Ayurveda</th>\n",
              "      <td>100%</td>\n",
              "    </tr>\n",
              "    <tr>\n",
              "      <th>Dentist</th>\n",
              "      <td>100%</td>\n",
              "    </tr>\n",
              "    <tr>\n",
              "      <th>Dermatologists</th>\n",
              "      <td>100%</td>\n",
              "    </tr>\n",
              "    <tr>\n",
              "      <th>ENT Specialist</th>\n",
              "      <td>100%</td>\n",
              "    </tr>\n",
              "    <tr>\n",
              "      <th>General Medicine</th>\n",
              "      <td>100%</td>\n",
              "    </tr>\n",
              "    <tr>\n",
              "      <th>Homeopath</th>\n",
              "      <td>100%</td>\n",
              "    </tr>\n",
              "  </tbody>\n",
              "</table>\n",
              "</div>"
            ],
            "text/plain": [
              "                 Rating\n",
              "Profile                \n",
              "Ayurveda           100%\n",
              "Dentist            100%\n",
              "Dermatologists     100%\n",
              "ENT Specialist     100%\n",
              "General Medicine   100%\n",
              "Homeopath          100%"
            ]
          },
          "metadata": {
            "tags": []
          },
          "execution_count": 15
        }
      ]
    },
    {
      "cell_type": "code",
      "metadata": {
        "id": "vhM48FATf3bM",
        "colab_type": "code",
        "colab": {
          "base_uri": "https://localhost:8080/",
          "height": 406
        },
        "outputId": "c58400d3-2b0e-4a75-f574-75711469063f"
      },
      "source": [
        "df_doc.isnull()"
      ],
      "execution_count": 16,
      "outputs": [
        {
          "output_type": "execute_result",
          "data": {
            "text/html": [
              "<div>\n",
              "<style scoped>\n",
              "    .dataframe tbody tr th:only-of-type {\n",
              "        vertical-align: middle;\n",
              "    }\n",
              "\n",
              "    .dataframe tbody tr th {\n",
              "        vertical-align: top;\n",
              "    }\n",
              "\n",
              "    .dataframe thead th {\n",
              "        text-align: right;\n",
              "    }\n",
              "</style>\n",
              "<table border=\"1\" class=\"dataframe\">\n",
              "  <thead>\n",
              "    <tr style=\"text-align: right;\">\n",
              "      <th></th>\n",
              "      <th>Qualification</th>\n",
              "      <th>Experience</th>\n",
              "      <th>Rating</th>\n",
              "      <th>Place</th>\n",
              "      <th>Profile</th>\n",
              "      <th>Miscellaneous_Info</th>\n",
              "      <th>Fees</th>\n",
              "      <th>source</th>\n",
              "    </tr>\n",
              "  </thead>\n",
              "  <tbody>\n",
              "    <tr>\n",
              "      <th>0</th>\n",
              "      <td>False</td>\n",
              "      <td>False</td>\n",
              "      <td>False</td>\n",
              "      <td>False</td>\n",
              "      <td>False</td>\n",
              "      <td>False</td>\n",
              "      <td>False</td>\n",
              "      <td>False</td>\n",
              "    </tr>\n",
              "    <tr>\n",
              "      <th>1</th>\n",
              "      <td>False</td>\n",
              "      <td>False</td>\n",
              "      <td>False</td>\n",
              "      <td>False</td>\n",
              "      <td>False</td>\n",
              "      <td>False</td>\n",
              "      <td>False</td>\n",
              "      <td>False</td>\n",
              "    </tr>\n",
              "    <tr>\n",
              "      <th>2</th>\n",
              "      <td>False</td>\n",
              "      <td>False</td>\n",
              "      <td>True</td>\n",
              "      <td>False</td>\n",
              "      <td>False</td>\n",
              "      <td>False</td>\n",
              "      <td>False</td>\n",
              "      <td>False</td>\n",
              "    </tr>\n",
              "    <tr>\n",
              "      <th>3</th>\n",
              "      <td>False</td>\n",
              "      <td>False</td>\n",
              "      <td>True</td>\n",
              "      <td>False</td>\n",
              "      <td>False</td>\n",
              "      <td>False</td>\n",
              "      <td>False</td>\n",
              "      <td>False</td>\n",
              "    </tr>\n",
              "    <tr>\n",
              "      <th>4</th>\n",
              "      <td>False</td>\n",
              "      <td>False</td>\n",
              "      <td>False</td>\n",
              "      <td>False</td>\n",
              "      <td>False</td>\n",
              "      <td>False</td>\n",
              "      <td>False</td>\n",
              "      <td>False</td>\n",
              "    </tr>\n",
              "    <tr>\n",
              "      <th>...</th>\n",
              "      <td>...</td>\n",
              "      <td>...</td>\n",
              "      <td>...</td>\n",
              "      <td>...</td>\n",
              "      <td>...</td>\n",
              "      <td>...</td>\n",
              "      <td>...</td>\n",
              "      <td>...</td>\n",
              "    </tr>\n",
              "    <tr>\n",
              "      <th>7943</th>\n",
              "      <td>False</td>\n",
              "      <td>False</td>\n",
              "      <td>True</td>\n",
              "      <td>False</td>\n",
              "      <td>False</td>\n",
              "      <td>False</td>\n",
              "      <td>True</td>\n",
              "      <td>False</td>\n",
              "    </tr>\n",
              "    <tr>\n",
              "      <th>7944</th>\n",
              "      <td>False</td>\n",
              "      <td>False</td>\n",
              "      <td>True</td>\n",
              "      <td>False</td>\n",
              "      <td>False</td>\n",
              "      <td>False</td>\n",
              "      <td>True</td>\n",
              "      <td>False</td>\n",
              "    </tr>\n",
              "    <tr>\n",
              "      <th>7945</th>\n",
              "      <td>False</td>\n",
              "      <td>False</td>\n",
              "      <td>True</td>\n",
              "      <td>False</td>\n",
              "      <td>False</td>\n",
              "      <td>False</td>\n",
              "      <td>True</td>\n",
              "      <td>False</td>\n",
              "    </tr>\n",
              "    <tr>\n",
              "      <th>7946</th>\n",
              "      <td>False</td>\n",
              "      <td>False</td>\n",
              "      <td>False</td>\n",
              "      <td>False</td>\n",
              "      <td>False</td>\n",
              "      <td>False</td>\n",
              "      <td>True</td>\n",
              "      <td>False</td>\n",
              "    </tr>\n",
              "    <tr>\n",
              "      <th>7947</th>\n",
              "      <td>False</td>\n",
              "      <td>False</td>\n",
              "      <td>True</td>\n",
              "      <td>False</td>\n",
              "      <td>False</td>\n",
              "      <td>False</td>\n",
              "      <td>True</td>\n",
              "      <td>False</td>\n",
              "    </tr>\n",
              "  </tbody>\n",
              "</table>\n",
              "<p>7948 rows × 8 columns</p>\n",
              "</div>"
            ],
            "text/plain": [
              "      Qualification  Experience  Rating  ...  Miscellaneous_Info   Fees  source\n",
              "0             False       False   False  ...               False  False   False\n",
              "1             False       False   False  ...               False  False   False\n",
              "2             False       False    True  ...               False  False   False\n",
              "3             False       False    True  ...               False  False   False\n",
              "4             False       False   False  ...               False  False   False\n",
              "...             ...         ...     ...  ...                 ...    ...     ...\n",
              "7943          False       False    True  ...               False   True   False\n",
              "7944          False       False    True  ...               False   True   False\n",
              "7945          False       False    True  ...               False   True   False\n",
              "7946          False       False   False  ...               False   True   False\n",
              "7947          False       False    True  ...               False   True   False\n",
              "\n",
              "[7948 rows x 8 columns]"
            ]
          },
          "metadata": {
            "tags": []
          },
          "execution_count": 16
        }
      ]
    },
    {
      "cell_type": "code",
      "metadata": {
        "id": "T6NQcHbmtL0z",
        "colab_type": "code",
        "colab": {
          "base_uri": "https://localhost:8080/",
          "height": 176
        },
        "outputId": "b715cd7b-e670-4478-ced3-112401004665"
      },
      "source": [
        "df_doc.isnull().sum()"
      ],
      "execution_count": 17,
      "outputs": [
        {
          "output_type": "execute_result",
          "data": {
            "text/plain": [
              "Qualification            0\n",
              "Experience               0\n",
              "Rating                4392\n",
              "Place                   31\n",
              "Profile                  0\n",
              "Miscellaneous_Info       0\n",
              "Fees                  1987\n",
              "source                   0\n",
              "dtype: int64"
            ]
          },
          "metadata": {
            "tags": []
          },
          "execution_count": 17
        }
      ]
    },
    {
      "cell_type": "code",
      "metadata": {
        "id": "Z24ybd_7Ca60",
        "colab_type": "code",
        "colab": {}
      },
      "source": [
        "df_doc.drop([\"Miscellaneous_Info\"], axis = 1,inplace = True)"
      ],
      "execution_count": 35,
      "outputs": []
    },
    {
      "cell_type": "code",
      "metadata": {
        "id": "95cl1wRuDn1y",
        "colab_type": "code",
        "colab": {
          "base_uri": "https://localhost:8080/",
          "height": 197
        },
        "outputId": "87a77c72-9fb6-4304-8207-79c2865d290d"
      },
      "source": [
        "df_doc.head()"
      ],
      "execution_count": 36,
      "outputs": [
        {
          "output_type": "execute_result",
          "data": {
            "text/html": [
              "<div>\n",
              "<style scoped>\n",
              "    .dataframe tbody tr th:only-of-type {\n",
              "        vertical-align: middle;\n",
              "    }\n",
              "\n",
              "    .dataframe tbody tr th {\n",
              "        vertical-align: top;\n",
              "    }\n",
              "\n",
              "    .dataframe thead th {\n",
              "        text-align: right;\n",
              "    }\n",
              "</style>\n",
              "<table border=\"1\" class=\"dataframe\">\n",
              "  <thead>\n",
              "    <tr style=\"text-align: right;\">\n",
              "      <th></th>\n",
              "      <th>Qualification</th>\n",
              "      <th>Experience</th>\n",
              "      <th>Rating</th>\n",
              "      <th>Place</th>\n",
              "      <th>Profile</th>\n",
              "      <th>Fees</th>\n",
              "      <th>source</th>\n",
              "    </tr>\n",
              "  </thead>\n",
              "  <tbody>\n",
              "    <tr>\n",
              "      <th>0</th>\n",
              "      <td>BHMS, MD - Homeopathy</td>\n",
              "      <td>24</td>\n",
              "      <td>100%</td>\n",
              "      <td>Kakkanad, Ernakulam</td>\n",
              "      <td>Homeopath</td>\n",
              "      <td>100.0</td>\n",
              "      <td>train</td>\n",
              "    </tr>\n",
              "    <tr>\n",
              "      <th>1</th>\n",
              "      <td>BAMS, MD - Ayurveda Medicine</td>\n",
              "      <td>12</td>\n",
              "      <td>98%</td>\n",
              "      <td>Whitefield, Bangalore</td>\n",
              "      <td>Ayurveda</td>\n",
              "      <td>350.0</td>\n",
              "      <td>train</td>\n",
              "    </tr>\n",
              "    <tr>\n",
              "      <th>2</th>\n",
              "      <td>MBBS, MS - Otorhinolaryngology</td>\n",
              "      <td>9</td>\n",
              "      <td>0 %</td>\n",
              "      <td>Mathikere - BEL, Bangalore</td>\n",
              "      <td>ENT Specialist</td>\n",
              "      <td>300.0</td>\n",
              "      <td>train</td>\n",
              "    </tr>\n",
              "    <tr>\n",
              "      <th>3</th>\n",
              "      <td>BSc - Zoology, BAMS</td>\n",
              "      <td>12</td>\n",
              "      <td>0 %</td>\n",
              "      <td>Bannerghatta Road, Bangalore</td>\n",
              "      <td>Ayurveda</td>\n",
              "      <td>250.0</td>\n",
              "      <td>train</td>\n",
              "    </tr>\n",
              "    <tr>\n",
              "      <th>4</th>\n",
              "      <td>BAMS</td>\n",
              "      <td>20</td>\n",
              "      <td>100%</td>\n",
              "      <td>Keelkattalai, Chennai</td>\n",
              "      <td>Ayurveda</td>\n",
              "      <td>250.0</td>\n",
              "      <td>train</td>\n",
              "    </tr>\n",
              "  </tbody>\n",
              "</table>\n",
              "</div>"
            ],
            "text/plain": [
              "                    Qualification  Experience  ...   Fees source\n",
              "0           BHMS, MD - Homeopathy          24  ...  100.0  train\n",
              "1    BAMS, MD - Ayurveda Medicine          12  ...  350.0  train\n",
              "2  MBBS, MS - Otorhinolaryngology           9  ...  300.0  train\n",
              "3             BSc - Zoology, BAMS          12  ...  250.0  train\n",
              "4                            BAMS          20  ...  250.0  train\n",
              "\n",
              "[5 rows x 7 columns]"
            ]
          },
          "metadata": {
            "tags": []
          },
          "execution_count": 36
        }
      ]
    },
    {
      "cell_type": "code",
      "metadata": {
        "id": "j4YvGzVftSny",
        "colab_type": "code",
        "colab": {}
      },
      "source": [
        "# replacing na values in Rating with 0% \n",
        "df_doc[\"Rating\"].fillna(\"0 %\", inplace = True) \n",
        "  \n"
      ],
      "execution_count": 37,
      "outputs": []
    },
    {
      "cell_type": "code",
      "metadata": {
        "id": "csR7IzhXw3jP",
        "colab_type": "code",
        "colab": {
          "base_uri": "https://localhost:8080/",
          "height": 158
        },
        "outputId": "3419971a-bb8c-430d-b68f-950e0652ae8b"
      },
      "source": [
        "df_doc.isnull().sum()"
      ],
      "execution_count": 38,
      "outputs": [
        {
          "output_type": "execute_result",
          "data": {
            "text/plain": [
              "Qualification    0\n",
              "Experience       0\n",
              "Rating           0\n",
              "Place            0\n",
              "Profile          0\n",
              "Fees             0\n",
              "source           0\n",
              "dtype: int64"
            ]
          },
          "metadata": {
            "tags": []
          },
          "execution_count": 38
        }
      ]
    },
    {
      "cell_type": "code",
      "metadata": {
        "id": "tIvpYvLQw5Vs",
        "colab_type": "code",
        "colab": {}
      },
      "source": [
        "# replacing na values in Place with Missing \n",
        "df_doc[\"Place\"].fillna(method ='ffill', inplace = True)"
      ],
      "execution_count": 39,
      "outputs": []
    },
    {
      "cell_type": "code",
      "metadata": {
        "id": "LmzBIHV2xJ4c",
        "colab_type": "code",
        "colab": {
          "base_uri": "https://localhost:8080/",
          "height": 158
        },
        "outputId": "dd9e90a2-9876-44aa-bb32-6635ae52c58a"
      },
      "source": [
        "df_doc.isnull().sum()"
      ],
      "execution_count": 40,
      "outputs": [
        {
          "output_type": "execute_result",
          "data": {
            "text/plain": [
              "Qualification    0\n",
              "Experience       0\n",
              "Rating           0\n",
              "Place            0\n",
              "Profile          0\n",
              "Fees             0\n",
              "source           0\n",
              "dtype: int64"
            ]
          },
          "metadata": {
            "tags": []
          },
          "execution_count": 40
        }
      ]
    },
    {
      "cell_type": "code",
      "metadata": {
        "id": "LF1UqiFRxK7t",
        "colab_type": "code",
        "colab": {}
      },
      "source": [
        "# replacing na values in Place with Missing \n",
        "df_doc[\"Fees\"].fillna(df_doc[\"Fees\"].mean(), inplace = True)"
      ],
      "execution_count": 41,
      "outputs": []
    },
    {
      "cell_type": "code",
      "metadata": {
        "id": "HohO7ouuxvj-",
        "colab_type": "code",
        "colab": {
          "base_uri": "https://localhost:8080/",
          "height": 158
        },
        "outputId": "c788dc61-db00-4c0e-fbd9-488d7d26ed65"
      },
      "source": [
        "df_doc.isnull().sum()"
      ],
      "execution_count": 42,
      "outputs": [
        {
          "output_type": "execute_result",
          "data": {
            "text/plain": [
              "Qualification    0\n",
              "Experience       0\n",
              "Rating           0\n",
              "Place            0\n",
              "Profile          0\n",
              "Fees             0\n",
              "source           0\n",
              "dtype: int64"
            ]
          },
          "metadata": {
            "tags": []
          },
          "execution_count": 42
        }
      ]
    },
    {
      "cell_type": "code",
      "metadata": {
        "id": "5sIn9D_2xwyd",
        "colab_type": "code",
        "colab": {
          "base_uri": "https://localhost:8080/",
          "height": 158
        },
        "outputId": "6a292deb-2fdf-443b-81c4-2e48fde6a67d"
      },
      "source": [
        "df_doc.isnull().sum()"
      ],
      "execution_count": 43,
      "outputs": [
        {
          "output_type": "execute_result",
          "data": {
            "text/plain": [
              "Qualification    0\n",
              "Experience       0\n",
              "Rating           0\n",
              "Place            0\n",
              "Profile          0\n",
              "Fees             0\n",
              "source           0\n",
              "dtype: int64"
            ]
          },
          "metadata": {
            "tags": []
          },
          "execution_count": 43
        }
      ]
    },
    {
      "cell_type": "code",
      "metadata": {
        "id": "4kb7eOh8ztsD",
        "colab_type": "code",
        "colab": {
          "base_uri": "https://localhost:8080/",
          "height": 506
        },
        "outputId": "db8dfa61-765c-42bf-ca8f-c26c661ef927"
      },
      "source": [
        "fig=plt.subplots(figsize=(12,8))\n",
        "\n",
        "sns.heatmap(df_doc.isnull())"
      ],
      "execution_count": 44,
      "outputs": [
        {
          "output_type": "execute_result",
          "data": {
            "text/plain": [
              "<matplotlib.axes._subplots.AxesSubplot at 0x7fc9b15173c8>"
            ]
          },
          "metadata": {
            "tags": []
          },
          "execution_count": 44
        },
        {
          "output_type": "display_data",
          "data": {
            "image/png": "[encoded data removed]",
            "text/plain": [
              "<Figure size 864x576 with 2 Axes>"
            ]
          },
          "metadata": {
            "tags": []
          }
        }
      ]
    },
    {
      "cell_type": "markdown",
      "metadata": {
        "id": "NRZuF7cX0VXx",
        "colab_type": "text"
      },
      "source": [
        "# Exploratory data analysis\n",
        "\n",
        "Exploratory Data Analysis – Exploratory analysis is the first step of data analysis. Here we get familiar with data, ask questions, visualize the data in a number of forms, look for the relationships between the variables, look for the outliers, patterns and trends in data set."
      ]
    },
    {
      "cell_type": "markdown",
      "metadata": {
        "id": "ER8trkbC0bJ7",
        "colab_type": "text"
      },
      "source": [
        "# Data Exploration"
      ]
    },
    {
      "cell_type": "code",
      "metadata": {
        "id": "TEM1M4eJ6x09",
        "colab_type": "code",
        "colab": {}
      },
      "source": [
        "df2=df_doc['Fees']"
      ],
      "execution_count": 45,
      "outputs": []
    },
    {
      "cell_type": "code",
      "metadata": {
        "id": "TfByWlDi0Uko",
        "colab_type": "code",
        "colab": {}
      },
      "source": [
        "# creating categorical in fees\n",
        "bin_labels = ['0-100', '101-200', '201-300', '301-400', '401-500', '501-600', '601-700', '701-800', '801-900', '901-1000']\n",
        "bins = [15, 20, 25, 30, 35, 40, 45, 50, 55, 60, 65]\n",
        "\n",
        "df2 = pd.cut(df2, bins = bins, labels = bin_labels, include_lowest = True)"
      ],
      "execution_count": 46,
      "outputs": []
    },
    {
      "cell_type": "code",
      "metadata": {
        "id": "AcjPSVUD0UbH",
        "colab_type": "code",
        "colab": {
          "base_uri": "https://localhost:8080/",
          "height": 397
        },
        "outputId": "c73a42cb-c45b-4d9c-f14f-33636dd1a93e"
      },
      "source": [
        "plt.subplots(figsize=(10,5))\n",
        "sns.set(style=\"darkgrid\")\n",
        "sns.countplot(df2)\n",
        "plt.title('Fees of Dr Consultaion')\n",
        "plt.xticks(rotation=70)\n",
        "plt.show()"
      ],
      "execution_count": 47,
      "outputs": [
        {
          "output_type": "display_data",
          "data": {
            "image/png": "[encoded data removed]",
            "text/plain": [
              "<Figure size 720x360 with 1 Axes>"
            ]
          },
          "metadata": {
            "tags": []
          }
        }
      ]
    },
    {
      "cell_type": "code",
      "metadata": {
        "id": "dYT_OxF80Uq3",
        "colab_type": "code",
        "colab": {
          "base_uri": "https://localhost:8080/",
          "height": 382
        },
        "outputId": "25716c5c-0a80-40ac-d6bc-dd48dd62a52d"
      },
      "source": [
        "fig_dims = (10, 5)\n",
        "fig, ax = plt.subplots(figsize=fig_dims)\n",
        "sns.barplot(x=df2,y='Experience', data = df_doc)\n",
        "plt.xticks(rotation=70)\n",
        "plt.show()"
      ],
      "execution_count": 48,
      "outputs": [
        {
          "output_type": "display_data",
          "data": {
            "image/png": "[encoded data removed]",
            "text/plain": [
              "<Figure size 720x360 with 1 Axes>"
            ]
          },
          "metadata": {
            "tags": []
          }
        }
      ]
    },
    {
      "cell_type": "code",
      "metadata": {
        "id": "xi4E9L-20Uof",
        "colab_type": "code",
        "colab": {
          "base_uri": "https://localhost:8080/",
          "height": 377
        },
        "outputId": "4823a919-f3c3-4e9c-989a-d4433167e4dc"
      },
      "source": [
        "plt.subplots(figsize=(20,5))\n",
        "sns.countplot(x='Rating',data=df_doc)\n",
        "plt.title('Rating of Dr Consultaion')\n",
        "plt.xticks(rotation=70)\n",
        "plt.show()"
      ],
      "execution_count": 49,
      "outputs": [
        {
          "output_type": "display_data",
          "data": {
            "image/png": "[encoded data removed]",
            "text/plain": [
              "<Figure size 1440x360 with 1 Axes>"
            ]
          },
          "metadata": {
            "tags": []
          }
        }
      ]
    },
    {
      "cell_type": "markdown",
      "metadata": {
        "id": "7HPSVIEXz6k8",
        "colab_type": "text"
      },
      "source": [
        "# Label Incoding"
      ]
    },
    {
      "cell_type": "code",
      "metadata": {
        "id": "A1r4G3_FzzLK",
        "colab_type": "code",
        "colab": {
          "base_uri": "https://localhost:8080/",
          "height": 197
        },
        "outputId": "7841eb77-f860-41af-9534-151d8ca1671c"
      },
      "source": [
        "# features\n",
        "df_doc.head()"
      ],
      "execution_count": 53,
      "outputs": [
        {
          "output_type": "execute_result",
          "data": {
            "text/html": [
              "<div>\n",
              "<style scoped>\n",
              "    .dataframe tbody tr th:only-of-type {\n",
              "        vertical-align: middle;\n",
              "    }\n",
              "\n",
              "    .dataframe tbody tr th {\n",
              "        vertical-align: top;\n",
              "    }\n",
              "\n",
              "    .dataframe thead th {\n",
              "        text-align: right;\n",
              "    }\n",
              "</style>\n",
              "<table border=\"1\" class=\"dataframe\">\n",
              "  <thead>\n",
              "    <tr style=\"text-align: right;\">\n",
              "      <th></th>\n",
              "      <th>Qualification</th>\n",
              "      <th>Experience</th>\n",
              "      <th>Rating</th>\n",
              "      <th>Place</th>\n",
              "      <th>Profile</th>\n",
              "      <th>Fees</th>\n",
              "      <th>source</th>\n",
              "    </tr>\n",
              "  </thead>\n",
              "  <tbody>\n",
              "    <tr>\n",
              "      <th>0</th>\n",
              "      <td>BHMS, MD - Homeopathy</td>\n",
              "      <td>24</td>\n",
              "      <td>100%</td>\n",
              "      <td>Kakkanad, Ernakulam</td>\n",
              "      <td>Homeopath</td>\n",
              "      <td>100.0</td>\n",
              "      <td>train</td>\n",
              "    </tr>\n",
              "    <tr>\n",
              "      <th>1</th>\n",
              "      <td>BAMS, MD - Ayurveda Medicine</td>\n",
              "      <td>12</td>\n",
              "      <td>98%</td>\n",
              "      <td>Whitefield, Bangalore</td>\n",
              "      <td>Ayurveda</td>\n",
              "      <td>350.0</td>\n",
              "      <td>train</td>\n",
              "    </tr>\n",
              "    <tr>\n",
              "      <th>2</th>\n",
              "      <td>MBBS, MS - Otorhinolaryngology</td>\n",
              "      <td>9</td>\n",
              "      <td>0 %</td>\n",
              "      <td>Mathikere - BEL, Bangalore</td>\n",
              "      <td>ENT Specialist</td>\n",
              "      <td>300.0</td>\n",
              "      <td>train</td>\n",
              "    </tr>\n",
              "    <tr>\n",
              "      <th>3</th>\n",
              "      <td>BSc - Zoology, BAMS</td>\n",
              "      <td>12</td>\n",
              "      <td>0 %</td>\n",
              "      <td>Bannerghatta Road, Bangalore</td>\n",
              "      <td>Ayurveda</td>\n",
              "      <td>250.0</td>\n",
              "      <td>train</td>\n",
              "    </tr>\n",
              "    <tr>\n",
              "      <th>4</th>\n",
              "      <td>BAMS</td>\n",
              "      <td>20</td>\n",
              "      <td>100%</td>\n",
              "      <td>Keelkattalai, Chennai</td>\n",
              "      <td>Ayurveda</td>\n",
              "      <td>250.0</td>\n",
              "      <td>train</td>\n",
              "    </tr>\n",
              "  </tbody>\n",
              "</table>\n",
              "</div>"
            ],
            "text/plain": [
              "                    Qualification  Experience  ...   Fees source\n",
              "0           BHMS, MD - Homeopathy          24  ...  100.0  train\n",
              "1    BAMS, MD - Ayurveda Medicine          12  ...  350.0  train\n",
              "2  MBBS, MS - Otorhinolaryngology           9  ...  300.0  train\n",
              "3             BSc - Zoology, BAMS          12  ...  250.0  train\n",
              "4                            BAMS          20  ...  250.0  train\n",
              "\n",
              "[5 rows x 7 columns]"
            ]
          },
          "metadata": {
            "tags": []
          },
          "execution_count": 53
        }
      ]
    },
    {
      "cell_type": "code",
      "metadata": {
        "id": "CxyihT69BmFK",
        "colab_type": "code",
        "colab": {
          "base_uri": "https://localhost:8080/",
          "height": 265
        },
        "outputId": "31d16b98-cd1c-408b-c981-3c8aff15d9bc"
      },
      "source": [
        "df_doc.info()"
      ],
      "execution_count": 54,
      "outputs": [
        {
          "output_type": "stream",
          "text": [
            "<class 'pandas.core.frame.DataFrame'>\n",
            "RangeIndex: 7948 entries, 0 to 7947\n",
            "Data columns (total 7 columns):\n",
            " #   Column         Non-Null Count  Dtype  \n",
            "---  ------         --------------  -----  \n",
            " 0   Qualification  7948 non-null   object \n",
            " 1   Experience     7948 non-null   int64  \n",
            " 2   Rating         7948 non-null   object \n",
            " 3   Place          7948 non-null   object \n",
            " 4   Profile        7948 non-null   object \n",
            " 5   Fees           7948 non-null   float64\n",
            " 6   source         7948 non-null   object \n",
            "dtypes: float64(1), int64(1), object(5)\n",
            "memory usage: 434.8+ KB\n"
          ],
          "name": "stdout"
        }
      ]
    },
    {
      "cell_type": "code",
      "metadata": {
        "id": "T80mZkDz0G-X",
        "colab_type": "code",
        "colab": {}
      },
      "source": [
        "data = df_doc.drop([\"Fees\"], axis=1)"
      ],
      "execution_count": 56,
      "outputs": []
    },
    {
      "cell_type": "code",
      "metadata": {
        "id": "aOLSt0o05hQe",
        "colab_type": "code",
        "colab": {}
      },
      "source": [
        "train_categorical_data = df_doc.select_dtypes(exclude=['int64', 'float','int32'])\n",
        "train_numerical_data = df_doc.select_dtypes(include=['int64','int32'])"
      ],
      "execution_count": 57,
      "outputs": []
    },
    {
      "cell_type": "code",
      "metadata": {
        "id": "2-WWQH_V5sFw",
        "colab_type": "code",
        "colab": {
          "base_uri": "https://localhost:8080/",
          "height": 197
        },
        "outputId": "c5ee23cc-8a4b-4275-b32b-a3a232fc6bc2"
      },
      "source": [
        "train_categorical_data.head()"
      ],
      "execution_count": 58,
      "outputs": [
        {
          "output_type": "execute_result",
          "data": {
            "text/html": [
              "<div>\n",
              "<style scoped>\n",
              "    .dataframe tbody tr th:only-of-type {\n",
              "        vertical-align: middle;\n",
              "    }\n",
              "\n",
              "    .dataframe tbody tr th {\n",
              "        vertical-align: top;\n",
              "    }\n",
              "\n",
              "    .dataframe thead th {\n",
              "        text-align: right;\n",
              "    }\n",
              "</style>\n",
              "<table border=\"1\" class=\"dataframe\">\n",
              "  <thead>\n",
              "    <tr style=\"text-align: right;\">\n",
              "      <th></th>\n",
              "      <th>Qualification</th>\n",
              "      <th>Rating</th>\n",
              "      <th>Place</th>\n",
              "      <th>Profile</th>\n",
              "      <th>source</th>\n",
              "    </tr>\n",
              "  </thead>\n",
              "  <tbody>\n",
              "    <tr>\n",
              "      <th>0</th>\n",
              "      <td>BHMS, MD - Homeopathy</td>\n",
              "      <td>100%</td>\n",
              "      <td>Kakkanad, Ernakulam</td>\n",
              "      <td>Homeopath</td>\n",
              "      <td>train</td>\n",
              "    </tr>\n",
              "    <tr>\n",
              "      <th>1</th>\n",
              "      <td>BAMS, MD - Ayurveda Medicine</td>\n",
              "      <td>98%</td>\n",
              "      <td>Whitefield, Bangalore</td>\n",
              "      <td>Ayurveda</td>\n",
              "      <td>train</td>\n",
              "    </tr>\n",
              "    <tr>\n",
              "      <th>2</th>\n",
              "      <td>MBBS, MS - Otorhinolaryngology</td>\n",
              "      <td>0 %</td>\n",
              "      <td>Mathikere - BEL, Bangalore</td>\n",
              "      <td>ENT Specialist</td>\n",
              "      <td>train</td>\n",
              "    </tr>\n",
              "    <tr>\n",
              "      <th>3</th>\n",
              "      <td>BSc - Zoology, BAMS</td>\n",
              "      <td>0 %</td>\n",
              "      <td>Bannerghatta Road, Bangalore</td>\n",
              "      <td>Ayurveda</td>\n",
              "      <td>train</td>\n",
              "    </tr>\n",
              "    <tr>\n",
              "      <th>4</th>\n",
              "      <td>BAMS</td>\n",
              "      <td>100%</td>\n",
              "      <td>Keelkattalai, Chennai</td>\n",
              "      <td>Ayurveda</td>\n",
              "      <td>train</td>\n",
              "    </tr>\n",
              "  </tbody>\n",
              "</table>\n",
              "</div>"
            ],
            "text/plain": [
              "                    Qualification Rating  ...         Profile source\n",
              "0           BHMS, MD - Homeopathy   100%  ...       Homeopath  train\n",
              "1    BAMS, MD - Ayurveda Medicine    98%  ...        Ayurveda  train\n",
              "2  MBBS, MS - Otorhinolaryngology    0 %  ...  ENT Specialist  train\n",
              "3             BSc - Zoology, BAMS    0 %  ...        Ayurveda  train\n",
              "4                            BAMS   100%  ...        Ayurveda  train\n",
              "\n",
              "[5 rows x 5 columns]"
            ]
          },
          "metadata": {
            "tags": []
          },
          "execution_count": 58
        }
      ]
    },
    {
      "cell_type": "code",
      "metadata": {
        "id": "j9-Z4WuQ5wbl",
        "colab_type": "code",
        "colab": {
          "base_uri": "https://localhost:8080/",
          "height": 197
        },
        "outputId": "8a68972b-627f-4b59-d15c-7dc3f0037cf0"
      },
      "source": [
        "train_numerical_data.head()"
      ],
      "execution_count": 59,
      "outputs": [
        {
          "output_type": "execute_result",
          "data": {
            "text/html": [
              "<div>\n",
              "<style scoped>\n",
              "    .dataframe tbody tr th:only-of-type {\n",
              "        vertical-align: middle;\n",
              "    }\n",
              "\n",
              "    .dataframe tbody tr th {\n",
              "        vertical-align: top;\n",
              "    }\n",
              "\n",
              "    .dataframe thead th {\n",
              "        text-align: right;\n",
              "    }\n",
              "</style>\n",
              "<table border=\"1\" class=\"dataframe\">\n",
              "  <thead>\n",
              "    <tr style=\"text-align: right;\">\n",
              "      <th></th>\n",
              "      <th>Experience</th>\n",
              "    </tr>\n",
              "  </thead>\n",
              "  <tbody>\n",
              "    <tr>\n",
              "      <th>0</th>\n",
              "      <td>24</td>\n",
              "    </tr>\n",
              "    <tr>\n",
              "      <th>1</th>\n",
              "      <td>12</td>\n",
              "    </tr>\n",
              "    <tr>\n",
              "      <th>2</th>\n",
              "      <td>9</td>\n",
              "    </tr>\n",
              "    <tr>\n",
              "      <th>3</th>\n",
              "      <td>12</td>\n",
              "    </tr>\n",
              "    <tr>\n",
              "      <th>4</th>\n",
              "      <td>20</td>\n",
              "    </tr>\n",
              "  </tbody>\n",
              "</table>\n",
              "</div>"
            ],
            "text/plain": [
              "   Experience\n",
              "0          24\n",
              "1          12\n",
              "2           9\n",
              "3          12\n",
              "4          20"
            ]
          },
          "metadata": {
            "tags": []
          },
          "execution_count": 59
        }
      ]
    },
    {
      "cell_type": "code",
      "metadata": {
        "id": "0tjfwEpX5-Ia",
        "colab_type": "code",
        "colab": {}
      },
      "source": [
        "#Label encode and hot encode categorical columns\n",
        "from sklearn.preprocessing import LabelEncoder\n",
        "le = LabelEncoder()\n",
        "train_categorical_data = train_categorical_data.apply(LabelEncoder().fit_transform)"
      ],
      "execution_count": 60,
      "outputs": []
    },
    {
      "cell_type": "code",
      "metadata": {
        "id": "NWPd_LsM72Ts",
        "colab_type": "code",
        "colab": {}
      },
      "source": [
        "# Concatenate both catagorical and numerical data\n",
        "\n",
        "x = pd.concat([train_categorical_data, train_numerical_data], axis=1)\n",
        "y=df_doc['Fees']"
      ],
      "execution_count": 61,
      "outputs": []
    },
    {
      "cell_type": "code",
      "metadata": {
        "id": "V-fuoG4G7-tS",
        "colab_type": "code",
        "colab": {
          "base_uri": "https://localhost:8080/",
          "height": 197
        },
        "outputId": "65085968-785f-4106-a0b0-854c8c6bcaaa"
      },
      "source": [
        "x.head()"
      ],
      "execution_count": 62,
      "outputs": [
        {
          "output_type": "execute_result",
          "data": {
            "text/html": [
              "<div>\n",
              "<style scoped>\n",
              "    .dataframe tbody tr th:only-of-type {\n",
              "        vertical-align: middle;\n",
              "    }\n",
              "\n",
              "    .dataframe tbody tr th {\n",
              "        vertical-align: top;\n",
              "    }\n",
              "\n",
              "    .dataframe thead th {\n",
              "        text-align: right;\n",
              "    }\n",
              "</style>\n",
              "<table border=\"1\" class=\"dataframe\">\n",
              "  <thead>\n",
              "    <tr style=\"text-align: right;\">\n",
              "      <th></th>\n",
              "      <th>Qualification</th>\n",
              "      <th>Rating</th>\n",
              "      <th>Place</th>\n",
              "      <th>Profile</th>\n",
              "      <th>source</th>\n",
              "      <th>Experience</th>\n",
              "    </tr>\n",
              "  </thead>\n",
              "  <tbody>\n",
              "    <tr>\n",
              "      <th>0</th>\n",
              "      <td>491</td>\n",
              "      <td>1</td>\n",
              "      <td>327</td>\n",
              "      <td>5</td>\n",
              "      <td>1</td>\n",
              "      <td>24</td>\n",
              "    </tr>\n",
              "    <tr>\n",
              "      <th>1</th>\n",
              "      <td>92</td>\n",
              "      <td>51</td>\n",
              "      <td>936</td>\n",
              "      <td>0</td>\n",
              "      <td>1</td>\n",
              "      <td>12</td>\n",
              "    </tr>\n",
              "    <tr>\n",
              "      <th>2</th>\n",
              "      <td>1442</td>\n",
              "      <td>0</td>\n",
              "      <td>499</td>\n",
              "      <td>3</td>\n",
              "      <td>1</td>\n",
              "      <td>9</td>\n",
              "    </tr>\n",
              "    <tr>\n",
              "      <th>3</th>\n",
              "      <td>572</td>\n",
              "      <td>0</td>\n",
              "      <td>74</td>\n",
              "      <td>0</td>\n",
              "      <td>1</td>\n",
              "      <td>12</td>\n",
              "    </tr>\n",
              "    <tr>\n",
              "      <th>4</th>\n",
              "      <td>16</td>\n",
              "      <td>1</td>\n",
              "      <td>369</td>\n",
              "      <td>0</td>\n",
              "      <td>1</td>\n",
              "      <td>20</td>\n",
              "    </tr>\n",
              "  </tbody>\n",
              "</table>\n",
              "</div>"
            ],
            "text/plain": [
              "   Qualification  Rating  Place  Profile  source  Experience\n",
              "0            491       1    327        5       1          24\n",
              "1             92      51    936        0       1          12\n",
              "2           1442       0    499        3       1           9\n",
              "3            572       0     74        0       1          12\n",
              "4             16       1    369        0       1          20"
            ]
          },
          "metadata": {
            "tags": []
          },
          "execution_count": 62
        }
      ]
    },
    {
      "cell_type": "code",
      "metadata": {
        "id": "V0C8MLIb8Alc",
        "colab_type": "code",
        "colab": {
          "base_uri": "https://localhost:8080/",
          "height": 123
        },
        "outputId": "1493d74d-a88a-49ef-a65f-6eb0fc9af798"
      },
      "source": [
        "y.head()"
      ],
      "execution_count": 63,
      "outputs": [
        {
          "output_type": "execute_result",
          "data": {
            "text/plain": [
              "0    100.0\n",
              "1    350.0\n",
              "2    300.0\n",
              "3    250.0\n",
              "4    250.0\n",
              "Name: Fees, dtype: float64"
            ]
          },
          "metadata": {
            "tags": []
          },
          "execution_count": 63
        }
      ]
    },
    {
      "cell_type": "markdown",
      "metadata": {
        "id": "xWgFAQaD-rqO",
        "colab_type": "text"
      },
      "source": [
        "# StandardScaler\n",
        "With StandardScaler we will be bringing all feature on the same scale\n",
        "\n",
        "Scalling data always result in better Score"
      ]
    },
    {
      "cell_type": "code",
      "metadata": {
        "id": "9GARWY0r8BwS",
        "colab_type": "code",
        "colab": {}
      },
      "source": [
        "#from sklearn.preprocessing import StandardScaler\n",
        "\n",
        "#columns = ['Qualification', 'Rating',\n",
        "       #'Place', 'Profile', 'Miscellaneous_Info', 'Experience', 'source']\n",
        "\n",
        "#sc=StandardScaler()\n",
        "#sc_fit=sc.fit(x)\n",
        "#sc_features=sc.transform(x)\n",
        "#sc_scaled_features=pd.DataFrame(sc_features,columns=columns)\n",
        "#sc_scaled_features.head(10)"
      ],
      "execution_count": 64,
      "outputs": []
    },
    {
      "cell_type": "markdown",
      "metadata": {
        "id": "0oIb2q8sAQts",
        "colab_type": "text"
      },
      "source": [
        "# statistical data interface"
      ]
    },
    {
      "cell_type": "code",
      "metadata": {
        "id": "yvrdkec0AMGi",
        "colab_type": "code",
        "colab": {
          "base_uri": "https://localhost:8080/",
          "height": 227
        },
        "outputId": "05bedbcc-525f-4538-f6f5-470409aa0b7b"
      },
      "source": [
        "#Lets check the corrrelation matrix\n",
        "x.corr()"
      ],
      "execution_count": 65,
      "outputs": [
        {
          "output_type": "execute_result",
          "data": {
            "text/html": [
              "<div>\n",
              "<style scoped>\n",
              "    .dataframe tbody tr th:only-of-type {\n",
              "        vertical-align: middle;\n",
              "    }\n",
              "\n",
              "    .dataframe tbody tr th {\n",
              "        vertical-align: top;\n",
              "    }\n",
              "\n",
              "    .dataframe thead th {\n",
              "        text-align: right;\n",
              "    }\n",
              "</style>\n",
              "<table border=\"1\" class=\"dataframe\">\n",
              "  <thead>\n",
              "    <tr style=\"text-align: right;\">\n",
              "      <th></th>\n",
              "      <th>Qualification</th>\n",
              "      <th>Rating</th>\n",
              "      <th>Place</th>\n",
              "      <th>Profile</th>\n",
              "      <th>source</th>\n",
              "      <th>Experience</th>\n",
              "    </tr>\n",
              "  </thead>\n",
              "  <tbody>\n",
              "    <tr>\n",
              "      <th>Qualification</th>\n",
              "      <td>1.000000</td>\n",
              "      <td>0.063269</td>\n",
              "      <td>0.010360</td>\n",
              "      <td>0.386709</td>\n",
              "      <td>-0.010821</td>\n",
              "      <td>0.129718</td>\n",
              "    </tr>\n",
              "    <tr>\n",
              "      <th>Rating</th>\n",
              "      <td>0.063269</td>\n",
              "      <td>1.000000</td>\n",
              "      <td>-0.029438</td>\n",
              "      <td>-0.098999</td>\n",
              "      <td>-0.005415</td>\n",
              "      <td>0.039612</td>\n",
              "    </tr>\n",
              "    <tr>\n",
              "      <th>Place</th>\n",
              "      <td>0.010360</td>\n",
              "      <td>-0.029438</td>\n",
              "      <td>1.000000</td>\n",
              "      <td>0.013591</td>\n",
              "      <td>-0.000208</td>\n",
              "      <td>0.019009</td>\n",
              "    </tr>\n",
              "    <tr>\n",
              "      <th>Profile</th>\n",
              "      <td>0.386709</td>\n",
              "      <td>-0.098999</td>\n",
              "      <td>0.013591</td>\n",
              "      <td>1.000000</td>\n",
              "      <td>-0.017491</td>\n",
              "      <td>0.190219</td>\n",
              "    </tr>\n",
              "    <tr>\n",
              "      <th>source</th>\n",
              "      <td>-0.010821</td>\n",
              "      <td>-0.005415</td>\n",
              "      <td>-0.000208</td>\n",
              "      <td>-0.017491</td>\n",
              "      <td>1.000000</td>\n",
              "      <td>-0.022064</td>\n",
              "    </tr>\n",
              "    <tr>\n",
              "      <th>Experience</th>\n",
              "      <td>0.129718</td>\n",
              "      <td>0.039612</td>\n",
              "      <td>0.019009</td>\n",
              "      <td>0.190219</td>\n",
              "      <td>-0.022064</td>\n",
              "      <td>1.000000</td>\n",
              "    </tr>\n",
              "  </tbody>\n",
              "</table>\n",
              "</div>"
            ],
            "text/plain": [
              "               Qualification    Rating  ...    source  Experience\n",
              "Qualification       1.000000  0.063269  ... -0.010821    0.129718\n",
              "Rating              0.063269  1.000000  ... -0.005415    0.039612\n",
              "Place               0.010360 -0.029438  ... -0.000208    0.019009\n",
              "Profile             0.386709 -0.098999  ... -0.017491    0.190219\n",
              "source             -0.010821 -0.005415  ...  1.000000   -0.022064\n",
              "Experience          0.129718  0.039612  ... -0.022064    1.000000\n",
              "\n",
              "[6 rows x 6 columns]"
            ]
          },
          "metadata": {
            "tags": []
          },
          "execution_count": 65
        }
      ]
    },
    {
      "cell_type": "code",
      "metadata": {
        "id": "Bcw6GQGRAMMw",
        "colab_type": "code",
        "colab": {
          "base_uri": "https://localhost:8080/",
          "height": 627
        },
        "outputId": "a9bffa7b-568f-4d9e-f25c-59a09aaeab52"
      },
      "source": [
        "# Correlation Matrix\n",
        "fig_df=(15,10)\n",
        "fig,ax=plt.subplots(figsize=fig_df)\n",
        "cmap=sns.diverging_palette(h_neg=15,h_pos=220,as_cmap=True)\n",
        "\n",
        "sns.heatmap(x.corr(),center=0,cmap=cmap,linewidths=1,annot=True,fmt='.2f',ax=ax);\n",
        "plt.title('Correlation Matrix (for Breast_cancer)')"
      ],
      "execution_count": 66,
      "outputs": [
        {
          "output_type": "execute_result",
          "data": {
            "text/plain": [
              "Text(0.5, 1.0, 'Correlation Matrix (for Breast_cancer)')"
            ]
          },
          "metadata": {
            "tags": []
          },
          "execution_count": 66
        },
        {
          "output_type": "display_data",
          "data": {
            "image/png": "[encoded data removed]",
            "text/plain": [
              "<Figure size 1080x720 with 2 Axes>"
            ]
          },
          "metadata": {
            "tags": []
          }
        }
      ]
    },
    {
      "cell_type": "code",
      "metadata": {
        "id": "xFbWLKGxAMWm",
        "colab_type": "code",
        "colab": {
          "base_uri": "https://localhost:8080/",
          "height": 227
        },
        "outputId": "8d97a0e9-4acb-468f-dc52-4e2eef1f2089"
      },
      "source": [
        "# statistical describe data set\n",
        "x.describe().transpose()"
      ],
      "execution_count": 67,
      "outputs": [
        {
          "output_type": "execute_result",
          "data": {
            "text/html": [
              "<div>\n",
              "<style scoped>\n",
              "    .dataframe tbody tr th:only-of-type {\n",
              "        vertical-align: middle;\n",
              "    }\n",
              "\n",
              "    .dataframe tbody tr th {\n",
              "        vertical-align: top;\n",
              "    }\n",
              "\n",
              "    .dataframe thead th {\n",
              "        text-align: right;\n",
              "    }\n",
              "</style>\n",
              "<table border=\"1\" class=\"dataframe\">\n",
              "  <thead>\n",
              "    <tr style=\"text-align: right;\">\n",
              "      <th></th>\n",
              "      <th>count</th>\n",
              "      <th>mean</th>\n",
              "      <th>std</th>\n",
              "      <th>min</th>\n",
              "      <th>25%</th>\n",
              "      <th>50%</th>\n",
              "      <th>75%</th>\n",
              "      <th>max</th>\n",
              "    </tr>\n",
              "  </thead>\n",
              "  <tbody>\n",
              "    <tr>\n",
              "      <th>Qualification</th>\n",
              "      <td>7948.0</td>\n",
              "      <td>756.032461</td>\n",
              "      <td>525.721528</td>\n",
              "      <td>0.0</td>\n",
              "      <td>284.75</td>\n",
              "      <td>749.0</td>\n",
              "      <td>1193.00</td>\n",
              "      <td>1800.0</td>\n",
              "    </tr>\n",
              "    <tr>\n",
              "      <th>Rating</th>\n",
              "      <td>7948.0</td>\n",
              "      <td>15.379089</td>\n",
              "      <td>21.986208</td>\n",
              "      <td>0.0</td>\n",
              "      <td>0.00</td>\n",
              "      <td>0.0</td>\n",
              "      <td>44.00</td>\n",
              "      <td>52.0</td>\n",
              "    </tr>\n",
              "    <tr>\n",
              "      <th>Place</th>\n",
              "      <td>7948.0</td>\n",
              "      <td>451.126069</td>\n",
              "      <td>280.978266</td>\n",
              "      <td>0.0</td>\n",
              "      <td>211.00</td>\n",
              "      <td>444.0</td>\n",
              "      <td>685.25</td>\n",
              "      <td>947.0</td>\n",
              "    </tr>\n",
              "    <tr>\n",
              "      <th>Profile</th>\n",
              "      <td>7948.0</td>\n",
              "      <td>2.458606</td>\n",
              "      <td>1.657217</td>\n",
              "      <td>0.0</td>\n",
              "      <td>1.00</td>\n",
              "      <td>2.0</td>\n",
              "      <td>4.00</td>\n",
              "      <td>5.0</td>\n",
              "    </tr>\n",
              "    <tr>\n",
              "      <th>source</th>\n",
              "      <td>7948.0</td>\n",
              "      <td>0.750000</td>\n",
              "      <td>0.433040</td>\n",
              "      <td>0.0</td>\n",
              "      <td>0.75</td>\n",
              "      <td>1.0</td>\n",
              "      <td>1.00</td>\n",
              "      <td>1.0</td>\n",
              "    </tr>\n",
              "    <tr>\n",
              "      <th>Experience</th>\n",
              "      <td>7948.0</td>\n",
              "      <td>17.446653</td>\n",
              "      <td>11.201217</td>\n",
              "      <td>0.0</td>\n",
              "      <td>9.00</td>\n",
              "      <td>15.0</td>\n",
              "      <td>23.00</td>\n",
              "      <td>66.0</td>\n",
              "    </tr>\n",
              "  </tbody>\n",
              "</table>\n",
              "</div>"
            ],
            "text/plain": [
              "                count        mean         std  ...    50%      75%     max\n",
              "Qualification  7948.0  756.032461  525.721528  ...  749.0  1193.00  1800.0\n",
              "Rating         7948.0   15.379089   21.986208  ...    0.0    44.00    52.0\n",
              "Place          7948.0  451.126069  280.978266  ...  444.0   685.25   947.0\n",
              "Profile        7948.0    2.458606    1.657217  ...    2.0     4.00     5.0\n",
              "source         7948.0    0.750000    0.433040  ...    1.0     1.00     1.0\n",
              "Experience     7948.0   17.446653   11.201217  ...   15.0    23.00    66.0\n",
              "\n",
              "[6 rows x 8 columns]"
            ]
          },
          "metadata": {
            "tags": []
          },
          "execution_count": 67
        }
      ]
    },
    {
      "cell_type": "code",
      "metadata": {
        "id": "6B-P2BNZAjgw",
        "colab_type": "code",
        "colab": {
          "base_uri": "https://localhost:8080/",
          "height": 158
        },
        "outputId": "b5824f9c-98e3-4740-e263-96194873c9ab"
      },
      "source": [
        "from tabulate import tabulate\n",
        "\n",
        "stats_ = x.describe().T.drop([\"count\", \"25%\", \"75%\"], axis=1)\n",
        "stats_ = pd.concat([stats_, x.skew()], axis=1)\n",
        "stats_.columns = [\"mean\", \"std\", \"min\", \"median\", \"max\", \"skew\" ]\n",
        "cols = [\"mean\", \"median\", \"std\", \"skew\", \"min\", \"max\"]\n",
        "stats_ = stats_[cols]\n",
        "print(tabulate(stats_, headers=\"keys\", floatfmt=\".1f\"))"
      ],
      "execution_count": 68,
      "outputs": [
        {
          "output_type": "stream",
          "text": [
            "                 mean    median    std    skew    min     max\n",
            "-------------  ------  --------  -----  ------  -----  ------\n",
            "Qualification   756.0     749.0  525.7     0.2    0.0  1800.0\n",
            "Rating           15.4       0.0   22.0     0.8    0.0    52.0\n",
            "Place           451.1     444.0  281.0     0.1    0.0   947.0\n",
            "Profile           2.5       2.0    1.7     0.1    0.0     5.0\n",
            "source            0.8       1.0    0.4    -1.2    0.0     1.0\n",
            "Experience       17.4      15.0   11.2     1.0    0.0    66.0\n"
          ],
          "name": "stdout"
        }
      ]
    },
    {
      "cell_type": "markdown",
      "metadata": {
        "id": "QcHSO5qy--fz",
        "colab_type": "text"
      },
      "source": [
        "# Building Machine Learning Models\n",
        "\n",
        "Let's first use a range of baseline algorithms (using out-of-the-box hyper-parameters) before we move on to more sophisticated solutions."
      ]
    },
    {
      "cell_type": "code",
      "metadata": {
        "id": "Neo4Fj-k-4W7",
        "colab_type": "code",
        "colab": {}
      },
      "source": [
        "# import liabraries:\n",
        "\n",
        "# model test & train split\n",
        "from sklearn.model_selection import train_test_split\n",
        "\n",
        "# standard scaling\n",
        "from sklearn.preprocessing import StandardScaler\n",
        "from sklearn import preprocessing\n",
        "from sklearn import utils\n",
        "\n",
        "# encoding categorical values \n",
        "from sklearn.preprocessing import LabelEncoder, OneHotEncoder\n",
        "\n",
        "# k-Fold Cross-Validation\n",
        "from sklearn.model_selection import KFold \n",
        "from sklearn.model_selection import cross_val_score\n",
        "\n",
        "# stats\n",
        "import statsmodels.api as sm\n",
        "from sklearn.metrics import mean_squared_error as mse\n",
        "from sklearn.metrics import r2_score\n",
        "from math import sqrt\n",
        "\n",
        "\n",
        "def mean_absolute_percentage_error(y_true, y_pred):\n",
        "    y_true, y_pred = np.array(y_true), np.array(y_pred)\n",
        "    return np.mean(np.abs((y_true - y_pred) / y_true)) * 100\n",
        "    \n",
        "# Model Liabraries\n",
        "\n",
        "from sklearn.model_selection import GridSearchCV\n",
        "from sklearn.model_selection import RandomizedSearchCV\n",
        "\n",
        "from sklearn.neighbors import KNeighborsRegressor\n",
        "from sklearn.linear_model import Ridge\n",
        "from sklearn.linear_model import Lasso\n",
        "from sklearn.tree import DecisionTreeRegressor\n",
        "from sklearn.ensemble import RandomForestRegressor\n",
        "from xgboost import XGBRegressor\n",
        "from sklearn.model_selection import KFold"
      ],
      "execution_count": 69,
      "outputs": []
    },
    {
      "cell_type": "code",
      "metadata": {
        "id": "gl9iGFEf9aGi",
        "colab_type": "code",
        "colab": {
          "base_uri": "https://localhost:8080/",
          "height": 105
        },
        "outputId": "8ed8294c-3899-400f-b256-c16aaa305c32"
      },
      "source": [
        "# dataset is ready now\n",
        "# split data into train and test data size\n",
        "x_train,x_test,y_train,y_test=train_test_split(x,y,test_size=0.25,random_state=10)\n",
        "\n",
        "print(\"The size of training input is\", x_train.shape)\n",
        "print(\"The size of training output is\", y_train.shape)\n",
        "print('-'*50)\n",
        "print(\"The size of testing input is\", x_test.shape)\n",
        "print(\"The size of testing output is\", y_test.shape)"
      ],
      "execution_count": 70,
      "outputs": [
        {
          "output_type": "stream",
          "text": [
            "The size of training input is (5961, 6)\n",
            "The size of training output is (5961,)\n",
            "--------------------------------------------------\n",
            "The size of testing input is (1987, 6)\n",
            "The size of testing output is (1987,)\n"
          ],
          "name": "stdout"
        }
      ]
    },
    {
      "cell_type": "markdown",
      "metadata": {
        "id": "Ii2eZ7ia_WvV",
        "colab_type": "text"
      },
      "source": [
        "# Ridge Regressor\n",
        "\n",
        "is a technique for analyzing multiple regression data that suffer from multicollinearity. When multicollinearity occurs, least squares estimates are unbiased, but their variances are large so they may be far from the true value."
      ]
    },
    {
      "cell_type": "code",
      "metadata": {
        "id": "NMPNN7nH_Obl",
        "colab_type": "code",
        "colab": {
          "base_uri": "https://localhost:8080/",
          "height": 425
        },
        "outputId": "24dfda3a-d083-4eb5-e3d5-4f04290331fe"
      },
      "source": [
        "print('-'*100)\n",
        "params ={'alpha' :[0.0001, 0.001, 0.01, 0.1, 1, 10, 100, 1000, 10000, 100000]}\n",
        "ridge_regressor =GridSearchCV(Ridge(), params ,cv =5,scoring = 'neg_mean_absolute_error', n_jobs =-1)\n",
        "print(ridge_regressor.fit(x_train ,y_train))\n",
        "print('-'*100)\n",
        "\n",
        "\n",
        "y_train_pred_rr =ridge_regressor.predict(x_train) ##Predict train result\n",
        "y_test_pred_rr =ridge_regressor.predict(x_test) ##Predict test result\n",
        "\n",
        "\n",
        "print(\"Train Results for Ridge Regressor Model:\")\n",
        "print('-'*50)\n",
        "print(\"Root mean squared error: \", sqrt(mse(y_train.values, y_train_pred_rr)))\n",
        "print(\"Mean absolute % error: \", round(mean_absolute_percentage_error(y_train.values, y_train_pred_rr)))\n",
        "print(\"R-squared: \", r2_score(y_train.values, y_train_pred_rr))\n",
        "\n",
        "print('-'*50)\n",
        "print(\"Test Results for Ridge Regressor Model:\")\n",
        "print('-'*50)\n",
        "print(\"Root mean squared error: \", sqrt(mse(y_test, y_test_pred_rr)))\n",
        "print(\"Mean absolute % error: \", round(mean_absolute_percentage_error(y_test, y_test_pred_rr)))\n",
        "print(\"R-squared: \", r2_score(y_test, y_test_pred_rr))\n",
        "print('-'*100)"
      ],
      "execution_count": 71,
      "outputs": [
        {
          "output_type": "stream",
          "text": [
            "----------------------------------------------------------------------------------------------------\n",
            "GridSearchCV(cv=5, error_score=nan,\n",
            "             estimator=Ridge(alpha=1.0, copy_X=True, fit_intercept=True,\n",
            "                             max_iter=None, normalize=False, random_state=None,\n",
            "                             solver='auto', tol=0.001),\n",
            "             iid='deprecated', n_jobs=-1,\n",
            "             param_grid={'alpha': [0.0001, 0.001, 0.01, 0.1, 1, 10, 100, 1000,\n",
            "                                   10000, 100000]},\n",
            "             pre_dispatch='2*n_jobs', refit=True, return_train_score=False,\n",
            "             scoring='neg_mean_absolute_error', verbose=0)\n",
            "----------------------------------------------------------------------------------------------------\n",
            "Train Results for Ridge Regressor Model:\n",
            "--------------------------------------------------\n",
            "Root mean squared error:  160.30075767269707\n",
            "Mean absolute % error:  63.0\n",
            "R-squared:  0.06702997404388578\n",
            "--------------------------------------------------\n",
            "Test Results for Ridge Regressor Model:\n",
            "--------------------------------------------------\n",
            "Root mean squared error:  156.48286971154408\n",
            "Mean absolute % error:  65.0\n",
            "R-squared:  0.08230784757006027\n",
            "----------------------------------------------------------------------------------------------------\n"
          ],
          "name": "stdout"
        }
      ]
    },
    {
      "cell_type": "markdown",
      "metadata": {
        "id": "8rlyADw7_eHZ",
        "colab_type": "text"
      },
      "source": [
        "# Lasso Regressor\n",
        "\n",
        "Lasso regression is a type of linear regression that uses shrinkage. Shrinkage is where data values are shrunk towards a central point, like the mean. The lasso procedure encourages simple, sparse models (i.e. models with fewer parameters)."
      ]
    },
    {
      "cell_type": "code",
      "metadata": {
        "id": "3-r4l3jq_bR_",
        "colab_type": "code",
        "colab": {
          "base_uri": "https://localhost:8080/",
          "height": 443
        },
        "outputId": "610d3276-7f6c-4b89-805c-6a0778a22543"
      },
      "source": [
        "print('-'*100)\n",
        "params ={'alpha' :[0.0001, 0.001, 0.01, 0.1, 1, 10, 100, 1000, 10000, 100000]}\n",
        "lasso_regressor =GridSearchCV(Lasso(), params ,cv =15,scoring = 'neg_mean_absolute_error', n_jobs =-1)\n",
        "print(lasso_regressor.fit(x_train ,y_train))\n",
        "print('-'*100)\n",
        "\n",
        "y_train_pred_lr=lasso_regressor.predict(x_train) ##Predict train result\n",
        "y_test_pred_lr=lasso_regressor.predict(x_test) ##Predict test result\n",
        "\n",
        "print(\"Train Results for Lasso Regressor Model:\")\n",
        "print('-'*50)\n",
        "print(\"Root mean squared error: \", sqrt(mse(y_train.values, y_train_pred_lr)))\n",
        "print(\"Mean absolute % error: \", round(mean_absolute_percentage_error(y_train.values, y_train_pred_lr)))\n",
        "print(\"R-squared: \", r2_score(y_train.values, y_train_pred_lr))\n",
        "\n",
        "print('-'*50)\n",
        "print(\"Test Results for Lasso Regressor Model:\")\n",
        "print('-'*50)\n",
        "print(\"Root mean squared error: \", sqrt(mse(y_test, y_test_pred_lr)))\n",
        "print(\"Mean absolute % error: \", round(mean_absolute_percentage_error(y_test, y_test_pred_lr)))\n",
        "print(\"R-squared: \", r2_score(y_test, y_test_pred_lr))\n",
        "print('-'*100)"
      ],
      "execution_count": 72,
      "outputs": [
        {
          "output_type": "stream",
          "text": [
            "----------------------------------------------------------------------------------------------------\n",
            "GridSearchCV(cv=15, error_score=nan,\n",
            "             estimator=Lasso(alpha=1.0, copy_X=True, fit_intercept=True,\n",
            "                             max_iter=1000, normalize=False, positive=False,\n",
            "                             precompute=False, random_state=None,\n",
            "                             selection='cyclic', tol=0.0001, warm_start=False),\n",
            "             iid='deprecated', n_jobs=-1,\n",
            "             param_grid={'alpha': [0.0001, 0.001, 0.01, 0.1, 1, 10, 100, 1000,\n",
            "                                   10000, 100000]},\n",
            "             pre_dispatch='2*n_jobs', refit=True, return_train_score=False,\n",
            "             scoring='neg_mean_absolute_error', verbose=0)\n",
            "----------------------------------------------------------------------------------------------------\n",
            "Train Results for Lasso Regressor Model:\n",
            "--------------------------------------------------\n",
            "Root mean squared error:  165.9593516482364\n",
            "Mean absolute % error:  65.0\n",
            "R-squared:  0.0\n",
            "--------------------------------------------------\n",
            "Test Results for Lasso Regressor Model:\n",
            "--------------------------------------------------\n",
            "Root mean squared error:  163.44264343012318\n",
            "Mean absolute % error:  67.0\n",
            "R-squared:  -0.0011385146872477936\n",
            "----------------------------------------------------------------------------------------------------\n"
          ],
          "name": "stdout"
        }
      ]
    },
    {
      "cell_type": "markdown",
      "metadata": {
        "id": "9ZI9OrzU_lnX",
        "colab_type": "text"
      },
      "source": [
        "# KNN (K-Nearest Neighbors)\n",
        "\n",
        "The target is predicted by local interpolation of the targets associated of the nearest neighbors in the training set."
      ]
    },
    {
      "cell_type": "code",
      "metadata": {
        "id": "zxN5XgOt_h8E",
        "colab_type": "code",
        "colab": {
          "base_uri": "https://localhost:8080/",
          "height": 478
        },
        "outputId": "25352fa0-ab01-4a2b-b073-1228db9c2dc5"
      },
      "source": [
        "print('-'*100)\n",
        "k_range = list(range(1, 30))\n",
        "params = dict(n_neighbors = k_range)\n",
        "knn_regressor = GridSearchCV(KNeighborsRegressor(), params, cv =10, scoring = 'neg_mean_squared_error')\n",
        "print(knn_regressor.fit(x_train, y_train))\n",
        "print('-'*100)\n",
        "\n",
        "y_train_pred_knn =knn_regressor.predict(x_train) ##Predict train result\n",
        "y_test_pred_knn =knn_regressor.predict(x_test) ##Predict test result\n",
        "\n",
        "\n",
        "print(\"Train Results for KNN Regressor Model:\")\n",
        "print('-'*50)\n",
        "print(\"Root mean squared error: \", sqrt(mse(y_train.values, y_train_pred_knn)))\n",
        "print(\"Mean absolute % error: \", round(mean_absolute_percentage_error(y_train.values, y_train_pred_knn)))\n",
        "print(\"R-squared: \", r2_score(y_train.values, y_train_pred_knn))\n",
        "\n",
        "print('-'*50)\n",
        "print(\"Test Results for KNN Regressor Model:\")\n",
        "print('-'*50)\n",
        "print(\"Root mean squared error: \", sqrt(mse(y_test, y_test_pred_knn)))\n",
        "print(\"Mean absolute % errorr: \", round(mean_absolute_percentage_error(y_test, y_test_pred_knn)))\n",
        "print(\"R-squared: \", r2_score(y_test, y_test_pred_knn))\n",
        "print('-'*100)"
      ],
      "execution_count": 73,
      "outputs": [
        {
          "output_type": "stream",
          "text": [
            "----------------------------------------------------------------------------------------------------\n",
            "GridSearchCV(cv=10, error_score=nan,\n",
            "             estimator=KNeighborsRegressor(algorithm='auto', leaf_size=30,\n",
            "                                           metric='minkowski',\n",
            "                                           metric_params=None, n_jobs=None,\n",
            "                                           n_neighbors=5, p=2,\n",
            "                                           weights='uniform'),\n",
            "             iid='deprecated', n_jobs=None,\n",
            "             param_grid={'n_neighbors': [1, 2, 3, 4, 5, 6, 7, 8, 9, 10, 11, 12,\n",
            "                                         13, 14, 15, 16, 17, 18, 19, 20, 21, 22,\n",
            "                                         23, 24, 25, 26, 27, 28, 29]},\n",
            "             pre_dispatch='2*n_jobs', refit=True, return_train_score=False,\n",
            "             scoring='neg_mean_squared_error', verbose=0)\n",
            "----------------------------------------------------------------------------------------------------\n",
            "Train Results for KNN Regressor Model:\n",
            "--------------------------------------------------\n",
            "Root mean squared error:  153.82073507578613\n",
            "Mean absolute % error:  60.0\n",
            "R-squared:  0.1409344452514263\n",
            "--------------------------------------------------\n",
            "Test Results for KNN Regressor Model:\n",
            "--------------------------------------------------\n",
            "Root mean squared error:  156.33834042771826\n",
            "Mean absolute % errorr:  63.0\n",
            "R-squared:  0.08400224567236536\n",
            "----------------------------------------------------------------------------------------------------\n"
          ],
          "name": "stdout"
        }
      ]
    },
    {
      "cell_type": "markdown",
      "metadata": {
        "id": "Z7tmJeZ2_sdh",
        "colab_type": "text"
      },
      "source": [
        "# DecisionTreeRegressor\n",
        "\n",
        "Decision Trees (DTs) are a non-parametric supervised learning method used for classification and regression. The goal is to create a model that predicts the value of a target variable by learning simple decision rules inferred from the data features.\n",
        "\n",
        "For instance, in the example below, decision trees learn from data to approximate a sine curve with a set of if-then-else decision rules. The deeper the tree, the more complex the decision rules and the fitter the model.\n"
      ]
    },
    {
      "cell_type": "code",
      "metadata": {
        "id": "g3N3acbY_pf8",
        "colab_type": "code",
        "colab": {
          "base_uri": "https://localhost:8080/",
          "height": 585
        },
        "outputId": "07fc95d9-54bc-45a2-c299-2cfe5ffa41a6"
      },
      "source": [
        "print('-'*100)\n",
        "depth  =list(range(3,30))\n",
        "param_grid =dict(max_depth =depth)\n",
        "tree =GridSearchCV(DecisionTreeRegressor(),param_grid,cv =10)\n",
        "print(tree.fit(x_train,y_train))\n",
        "print('-'*100)\n",
        "\n",
        "y_train_pred_dt =tree.predict(x_train) ##Predict train result\n",
        "y_test_pred_dt =tree.predict(x_test) ##Predict test result\n",
        "\n",
        "print(\"Train Results for Decision Tree Regressor Model:\")\n",
        "print('-'*50)\n",
        "print(\"Root mean squared error: \", sqrt(mse(y_train.values, y_train_pred_dt)))\n",
        "print(\"Mean absolute % error: \", round(mean_absolute_percentage_error(y_train.values, y_train_pred_dt)))\n",
        "print(\"R-squared: \", r2_score(y_train.values, y_train_pred_dt))\n",
        "\n",
        "print('-'*50)\n",
        "print(\"Test Results for Decision Tree Regressor Model:\")\n",
        "print('-'*50)\n",
        "print(\"Root mean squared error: \", sqrt(mse(y_test, y_test_pred_dt)))\n",
        "print(\"Mean absolute % error: \", round(mean_absolute_percentage_error(y_test, y_test_pred_dt)))\n",
        "print(\"R-squared: \", r2_score(y_test, y_test_pred_dt))\n",
        "print('-'*100)"
      ],
      "execution_count": 74,
      "outputs": [
        {
          "output_type": "stream",
          "text": [
            "----------------------------------------------------------------------------------------------------\n",
            "GridSearchCV(cv=10, error_score=nan,\n",
            "             estimator=DecisionTreeRegressor(ccp_alpha=0.0, criterion='mse',\n",
            "                                             max_depth=None, max_features=None,\n",
            "                                             max_leaf_nodes=None,\n",
            "                                             min_impurity_decrease=0.0,\n",
            "                                             min_impurity_split=None,\n",
            "                                             min_samples_leaf=1,\n",
            "                                             min_samples_split=2,\n",
            "                                             min_weight_fraction_leaf=0.0,\n",
            "                                             presort='deprecated',\n",
            "                                             random_state=None,\n",
            "                                             splitter='best'),\n",
            "             iid='deprecated', n_jobs=None,\n",
            "             param_grid={'max_depth': [3, 4, 5, 6, 7, 8, 9, 10, 11, 12, 13, 14,\n",
            "                                       15, 16, 17, 18, 19, 20, 21, 22, 23, 24,\n",
            "                                       25, 26, 27, 28, 29]},\n",
            "             pre_dispatch='2*n_jobs', refit=True, return_train_score=False,\n",
            "             scoring=None, verbose=0)\n",
            "----------------------------------------------------------------------------------------------------\n",
            "Train Results for Decision Tree Regressor Model:\n",
            "--------------------------------------------------\n",
            "Root mean squared error:  151.8169175486543\n",
            "Mean absolute % error:  55.0\n",
            "R-squared:  0.16317069624459446\n",
            "--------------------------------------------------\n",
            "Test Results for Decision Tree Regressor Model:\n",
            "--------------------------------------------------\n",
            "Root mean squared error:  150.49690974285855\n",
            "Mean absolute % error:  58.0\n",
            "R-squared:  0.1511741858976382\n",
            "----------------------------------------------------------------------------------------------------\n"
          ],
          "name": "stdout"
        }
      ]
    },
    {
      "cell_type": "markdown",
      "metadata": {
        "id": "S2YhTiBG_x63",
        "colab_type": "text"
      },
      "source": [
        "# Random Forest Regressor\n",
        "\n",
        "A random forest regressor. A random forest is a meta estimator that fits a number of classifying decision trees on various sub-samples of the dataset and uses averaging to improve the predictive accuracy and control over-fitting."
      ]
    },
    {
      "cell_type": "code",
      "metadata": {
        "id": "_UQ76gDd_vgA",
        "colab_type": "code",
        "colab": {
          "base_uri": "https://localhost:8080/",
          "height": 710
        },
        "outputId": "86bdf41d-d9de-491c-ca15-49ae02ad62c9"
      },
      "source": [
        "print('-'*100)\n",
        "tuned_params = {'n_estimators': [100, 200, 300, 400, 500], 'min_samples_split': [2, 5, 10], 'min_samples_leaf': [1, 2, 4]}\n",
        "random_regressor = RandomizedSearchCV(RandomForestRegressor(), tuned_params, n_iter = 20, scoring = 'neg_mean_absolute_error', cv = 5, n_jobs = -1)\n",
        "print(random_regressor.fit(x_train, y_train))\n",
        "print('-'*100)\n",
        "\n",
        "y_train_pred_rfr = random_regressor.predict(x_train)\n",
        "y_test_pred_rfr = random_regressor.predict(x_test)\n",
        "\n",
        "\n",
        "print(\"Train Results for Random Forest Regressor Model:\")\n",
        "print('-'*50)\n",
        "print(\"Root mean squared error: \", sqrt(mse(y_train.values, y_train_pred_rfr)))\n",
        "print(\"Mean absolute % error: \", round(mean_absolute_percentage_error(y_train.values, y_train_pred_rfr)))\n",
        "print(\"R-squared: \", r2_score(y_train.values, y_train_pred_rfr))\n",
        "\n",
        "print('-'*50)\n",
        "print(\"Test Results for Random Forest Regressor Model:\")\n",
        "print('-'*50)\n",
        "print(\"Root mean squared error: \", sqrt(mse(y_test, y_test_pred_rfr)))\n",
        "print(\"Mean absolute % error: \", round(mean_absolute_percentage_error(y_test, y_test_pred_rfr)))\n",
        "print(\"R-squared: \", r2_score(y_test, y_test_pred_rfr))\n",
        "print('-'*100)"
      ],
      "execution_count": 75,
      "outputs": [
        {
          "output_type": "stream",
          "text": [
            "----------------------------------------------------------------------------------------------------\n",
            "RandomizedSearchCV(cv=5, error_score=nan,\n",
            "                   estimator=RandomForestRegressor(bootstrap=True,\n",
            "                                                   ccp_alpha=0.0,\n",
            "                                                   criterion='mse',\n",
            "                                                   max_depth=None,\n",
            "                                                   max_features='auto',\n",
            "                                                   max_leaf_nodes=None,\n",
            "                                                   max_samples=None,\n",
            "                                                   min_impurity_decrease=0.0,\n",
            "                                                   min_impurity_split=None,\n",
            "                                                   min_samples_leaf=1,\n",
            "                                                   min_samples_split=2,\n",
            "                                                   min_weight_fraction_leaf=0.0,\n",
            "                                                   n_estimators=100,\n",
            "                                                   n_jobs=None, oob_score=False,\n",
            "                                                   random_state=None, verbose=0,\n",
            "                                                   warm_start=False),\n",
            "                   iid='deprecated', n_iter=20, n_jobs=-1,\n",
            "                   param_distributions={'min_samples_leaf': [1, 2, 4],\n",
            "                                        'min_samples_split': [2, 5, 10],\n",
            "                                        'n_estimators': [100, 200, 300, 400,\n",
            "                                                         500]},\n",
            "                   pre_dispatch='2*n_jobs', random_state=None, refit=True,\n",
            "                   return_train_score=False, scoring='neg_mean_absolute_error',\n",
            "                   verbose=0)\n",
            "----------------------------------------------------------------------------------------------------\n",
            "Train Results for Random Forest Regressor Model:\n",
            "--------------------------------------------------\n",
            "Root mean squared error:  105.83029830200067\n",
            "Mean absolute % error:  38.0\n",
            "R-squared:  0.5933539280618065\n",
            "--------------------------------------------------\n",
            "Test Results for Random Forest Regressor Model:\n",
            "--------------------------------------------------\n",
            "Root mean squared error:  146.2737962099242\n",
            "Mean absolute % error:  54.0\n",
            "R-squared:  0.1981438225705472\n",
            "----------------------------------------------------------------------------------------------------\n"
          ],
          "name": "stdout"
        }
      ]
    },
    {
      "cell_type": "markdown",
      "metadata": {
        "id": "YSJoFMfv_3Wx",
        "colab_type": "text"
      },
      "source": [
        "# XGBRegressor\n",
        "\n",
        "Data Matrix used in XGBoost.\n",
        "\n",
        "DMatrix is a internal data structure that used by XGBoost which is optimized for both memory efficiency and training speed. You can construct DMatrix from multiple different sources of data."
      ]
    },
    {
      "cell_type": "code",
      "metadata": {
        "id": "oQBFIxG4_0VU",
        "colab_type": "code",
        "colab": {
          "base_uri": "https://localhost:8080/",
          "height": 710
        },
        "outputId": "ae04daa9-439f-4bf0-a263-d0e1136ede97"
      },
      "source": [
        "print('-'*100)\n",
        "tuned_params = {'max_depth': [1, 2, 3, 4, 5], 'learning_rate': [0.01, 0.05, 0.1], 'n_estimators': [100, 200, 300, 400, 500], 'reg_lambda': [0.001, 0.1, 1.0, 10.0, 100.0]}\n",
        "model = RandomizedSearchCV(XGBRegressor(), tuned_params, n_iter=20, scoring = 'neg_mean_absolute_error', cv=5, n_jobs=-1)\n",
        "print(model.fit(x_train, y_train))\n",
        "print('-'*100)\n",
        "\n",
        "y_train_pred_xgbr = model.predict(x_train)\n",
        "y_test_pred_xgbr = model.predict(x_test)\n",
        "\n",
        "print(\"Train Results for XGBoost Regressor Model:\")\n",
        "print('-'*50)\n",
        "print(\"Root mean squared error: \", sqrt(mse(y_train.values, y_train_pred_xgbr)))\n",
        "print(\"Mean absolute % error: \", round(mean_absolute_percentage_error(y_train.values, y_train_pred_xgbr)))\n",
        "print(\"R-squared: \", r2_score(y_train.values, y_train_pred_xgbr))\n",
        "\n",
        "print('-'*50)\n",
        "print(\"Test Results for XGBoost Regressor Model:\")\n",
        "print('-'*50)\n",
        "print(\"Root mean squared error: \", sqrt(mse(y_test, y_test_pred_xgbr)))\n",
        "print(\"Mean absolute % error: \", round(mean_absolute_percentage_error(y_test, y_test_pred_xgbr)))\n",
        "print(\"R-squared: \", r2_score(y_test, y_test_pred_xgbr))\n",
        "print('-'*100)"
      ],
      "execution_count": 76,
      "outputs": [
        {
          "output_type": "stream",
          "text": [
            "----------------------------------------------------------------------------------------------------\n",
            "[08:13:15] WARNING: /workspace/src/objective/regression_obj.cu:152: reg:linear is now deprecated in favor of reg:squarederror.\n",
            "RandomizedSearchCV(cv=5, error_score=nan,\n",
            "                   estimator=XGBRegressor(base_score=0.5, booster='gbtree',\n",
            "                                          colsample_bylevel=1,\n",
            "                                          colsample_bynode=1,\n",
            "                                          colsample_bytree=1, gamma=0,\n",
            "                                          importance_type='gain',\n",
            "                                          learning_rate=0.1, max_delta_step=0,\n",
            "                                          max_depth=3, min_child_weight=1,\n",
            "                                          missing=None, n_estimators=100,\n",
            "                                          n_jobs=1, nthread=None,\n",
            "                                          objective='reg:linear',\n",
            "                                          random_state=0, reg_alpha=...\n",
            "                                          seed=None, silent=None, subsample=1,\n",
            "                                          verbosity=1),\n",
            "                   iid='deprecated', n_iter=20, n_jobs=-1,\n",
            "                   param_distributions={'learning_rate': [0.01, 0.05, 0.1],\n",
            "                                        'max_depth': [1, 2, 3, 4, 5],\n",
            "                                        'n_estimators': [100, 200, 300, 400,\n",
            "                                                         500],\n",
            "                                        'reg_lambda': [0.001, 0.1, 1.0, 10.0,\n",
            "                                                       100.0]},\n",
            "                   pre_dispatch='2*n_jobs', random_state=None, refit=True,\n",
            "                   return_train_score=False, scoring='neg_mean_absolute_error',\n",
            "                   verbose=0)\n",
            "----------------------------------------------------------------------------------------------------\n",
            "Train Results for XGBoost Regressor Model:\n",
            "--------------------------------------------------\n",
            "Root mean squared error:  134.3745447742443\n",
            "Mean absolute % error:  49.0\n",
            "R-squared:  0.3444126681364331\n",
            "--------------------------------------------------\n",
            "Test Results for XGBoost Regressor Model:\n",
            "--------------------------------------------------\n",
            "Root mean squared error:  145.84142860590026\n",
            "Mean absolute % error:  56.0\n",
            "R-squared:  0.2028771958277159\n",
            "----------------------------------------------------------------------------------------------------\n"
          ],
          "name": "stdout"
        }
      ]
    },
    {
      "cell_type": "markdown",
      "metadata": {
        "id": "DmtKJ_kQ_8mK",
        "colab_type": "text"
      },
      "source": [
        "# Final Score"
      ]
    },
    {
      "cell_type": "code",
      "metadata": {
        "id": "EJoVpHvh_5tQ",
        "colab_type": "code",
        "colab": {
          "base_uri": "https://localhost:8080/",
          "height": 692
        },
        "outputId": "9ef68a7e-45de-4bd5-9a64-64ff3d4c67cc"
      },
      "source": [
        "# DecisionTreeRegressor, Random Forest Regressor and XGBRegressor are peforming almost equally good\n",
        "print('Final Score')\n",
        "print('-'*100)\n",
        "print(\"Train Results for Ridge Regressor Model:\")\n",
        "print('-'*50)\n",
        "print(\"Root mean squared error: \", sqrt(mse(y_train.values, y_train_pred_rr)))\n",
        "print(\"Mean absolute % error: \", round(mean_absolute_percentage_error(y_train.values, y_train_pred_rr)))\n",
        "print(\"R-squared: \", r2_score(y_train.values, y_train_pred_rr))\n",
        "print('-'*100)\n",
        "\n",
        "print(\"Train Results for Lasso Regressor Model:\")\n",
        "print('-'*50)\n",
        "print(\"Root mean squared error: \", sqrt(mse(y_train.values, y_train_pred_lr)))\n",
        "print(\"Mean absolute % error: \", round(mean_absolute_percentage_error(y_train.values, y_train_pred_lr)))\n",
        "print(\"R-squared: \", r2_score(y_train.values, y_train_pred_lr))\n",
        "print('-'*100)\n",
        "\n",
        "\n",
        "print(\"Train Results for KNN Regressor Model:\")\n",
        "print('-'*50)\n",
        "print(\"Root mean squared error: \", sqrt(mse(y_train.values, y_train_pred_knn)))\n",
        "print(\"Mean absolute % error: \", round(mean_absolute_percentage_error(y_train.values, y_train_pred_knn)))\n",
        "print(\"R-squared: \", r2_score(y_train.values, y_train_pred_knn))\n",
        "print('-'*100)\n",
        "\n",
        "print(\"Train Results for Decision Tree Regressor Model:\")\n",
        "print('-'*50)\n",
        "print(\"Root mean squared error: \", sqrt(mse(y_train.values, y_train_pred_dt)))\n",
        "print(\"Mean absolute % error: \", round(mean_absolute_percentage_error(y_train.values, y_train_pred_dt)))\n",
        "print(\"R-squared: \", r2_score(y_train.values, y_train_pred_dt))\n",
        "print('-'*100)\n",
        "\n",
        "print(\"Train Results for Random Forest Regressor Model:\")\n",
        "print('-'*50)\n",
        "print(\"Root mean squared error: \", sqrt(mse(y_train.values, y_train_pred_rfr)))\n",
        "print(\"Mean absolute % error: \", round(mean_absolute_percentage_error(y_train.values, y_train_pred_rfr)))\n",
        "print(\"R-squared: \", r2_score(y_train.values, y_train_pred_rfr))\n",
        "print('-'*100)\n",
        "\n",
        "print(\"Train Results for XGBoost Regressor Model:\")\n",
        "print('-'*50)\n",
        "print(\"Root mean squared error: \", sqrt(mse(y_train.values, y_train_pred_xgbr)))\n",
        "print(\"Mean absolute % error: \", round(mean_absolute_percentage_error(y_train.values, y_train_pred_xgbr)))\n",
        "print(\"R-squared: \", r2_score(y_train.values, y_train_pred_xgbr))\n",
        "print('-'*100)\n"
      ],
      "execution_count": 77,
      "outputs": [
        {
          "output_type": "stream",
          "text": [
            "Final Score\n",
            "----------------------------------------------------------------------------------------------------\n",
            "Train Results for Ridge Regressor Model:\n",
            "--------------------------------------------------\n",
            "Root mean squared error:  160.30075767269707\n",
            "Mean absolute % error:  63.0\n",
            "R-squared:  0.06702997404388578\n",
            "----------------------------------------------------------------------------------------------------\n",
            "Train Results for Lasso Regressor Model:\n",
            "--------------------------------------------------\n",
            "Root mean squared error:  165.9593516482364\n",
            "Mean absolute % error:  65.0\n",
            "R-squared:  0.0\n",
            "----------------------------------------------------------------------------------------------------\n",
            "Train Results for KNN Regressor Model:\n",
            "--------------------------------------------------\n",
            "Root mean squared error:  153.82073507578613\n",
            "Mean absolute % error:  60.0\n",
            "R-squared:  0.1409344452514263\n",
            "----------------------------------------------------------------------------------------------------\n",
            "Train Results for Decision Tree Regressor Model:\n",
            "--------------------------------------------------\n",
            "Root mean squared error:  151.8169175486543\n",
            "Mean absolute % error:  55.0\n",
            "R-squared:  0.16317069624459446\n",
            "----------------------------------------------------------------------------------------------------\n",
            "Train Results for Random Forest Regressor Model:\n",
            "--------------------------------------------------\n",
            "Root mean squared error:  105.83029830200067\n",
            "Mean absolute % error:  38.0\n",
            "R-squared:  0.5933539280618065\n",
            "----------------------------------------------------------------------------------------------------\n",
            "Train Results for XGBoost Regressor Model:\n",
            "--------------------------------------------------\n",
            "Root mean squared error:  134.3745447742443\n",
            "Mean absolute % error:  49.0\n",
            "R-squared:  0.3444126681364331\n",
            "----------------------------------------------------------------------------------------------------\n"
          ],
          "name": "stdout"
        }
      ]
    },
    {
      "cell_type": "markdown",
      "metadata": {
        "id": "_KpAsyFuADJm",
        "colab_type": "text"
      },
      "source": [
        "# Conclusion\n",
        "\n",
        "All Alogrithm score is low because there are many missing value we can analys the data on visulasation better than model."
      ]
    },
    {
      "cell_type": "code",
      "metadata": {
        "id": "E_N8SjHp81Gy",
        "colab_type": "code",
        "colab": {}
      },
      "source": [
        ""
      ],
      "execution_count": null,
      "outputs": []
    }
  ]
}
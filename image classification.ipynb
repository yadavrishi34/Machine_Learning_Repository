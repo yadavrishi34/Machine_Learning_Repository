{
  "nbformat": 4,
  "nbformat_minor": 0,
  "metadata": {
    "colab": {
      "name": "Untitled2.ipynb",
      "provenance": [],
      "authorship_tag": "ABX9TyOKH3ZDBvs0kIK43jS6dMBY",
      "include_colab_link": true
    },
    "kernelspec": {
      "name": "python3",
      "display_name": "Python 3"
    },
    "accelerator": "GPU"
  },
  "cells": [
    {
      "cell_type": "markdown",
      "metadata": {
        "id": "view-in-github",
        "colab_type": "text"
      },
      "source": [
        "<a href=\"https://colab.research.google.com/github/yadavrishi34/Machine_Learning_Repository/blob/master/image%20classification.ipynb\" target=\"_parent\"><img src=\"https://colab.research.google.com/assets/colab-badge.svg\" alt=\"Open In Colab\"/></a>"
      ]
    },
    {
      "cell_type": "code",
      "metadata": {
        "id": "a-9JznYhb4hK",
        "colab_type": "code",
        "colab": {}
      },
      "source": [
        "# image classification as per assignment 1 try on downloaded image from web scraping\n",
        "#get acess from google drive data into google colab\n",
        "\n",
        "from google.colab import drive\n",
        "drive.mount('/content/drive')"
      ],
      "execution_count": null,
      "outputs": []
    },
    {
      "cell_type": "code",
      "metadata": {
        "id": "2Z1CAIS1b7MA",
        "colab_type": "code",
        "colab": {}
      },
      "source": [
        "from zipfile import ZipFile\n",
        "file= \"/content/Flipcart_Mens_trouser_jeans_dataset.zip\"\n",
        "with ZipFile(file,'r') as zip:\n",
        "  zip.extractall()\n",
        "  print('finish')"
      ],
      "execution_count": null,
      "outputs": []
    },
    {
      "cell_type": "code",
      "metadata": {
        "id": "mVmsH33vc1KI",
        "colab_type": "code",
        "colab": {}
      },
      "source": [
        "# Importing the Keras libraries & packages\n",
        "from keras.models import Sequential\n",
        "from keras.layers import Conv2D\n",
        "from keras.layers import MaxPooling2D\n",
        "from keras.layers import Flatten\n",
        "from keras.layers import Dense"
      ],
      "execution_count": null,
      "outputs": []
    },
    {
      "cell_type": "code",
      "metadata": {
        "id": "iD2ncGwPc5CZ",
        "colab_type": "code",
        "colab": {}
      },
      "source": [
        "# Initialising the CNN\n",
        "\n",
        "CNN_Classification=Sequential();"
      ],
      "execution_count": null,
      "outputs": []
    },
    {
      "cell_type": "code",
      "metadata": {
        "id": "ExGV1ZHMc6g1",
        "colab_type": "code",
        "colab": {}
      },
      "source": [
        "# Step 1 - Convolution\n",
        "CNN_Classification.add(Conv2D(32,(3,3),input_shape=(64,64,3),activation='relu'))\n",
        "CNN_Classification.add(Conv2D(16,(3,3),activation='relu'))"
      ],
      "execution_count": null,
      "outputs": []
    },
    {
      "cell_type": "code",
      "metadata": {
        "id": "QZILoYPkc8JY",
        "colab_type": "code",
        "colab": {}
      },
      "source": [
        "# Step 2 - Pooling\n",
        "CNN_Classification.add(MaxPooling2D(pool_size=(2,2)))\n",
        "CNN_Classification.add(MaxPooling2D(pool_size=(2,2)))"
      ],
      "execution_count": null,
      "outputs": []
    },
    {
      "cell_type": "code",
      "metadata": {
        "id": "IJ7hvqV1c9XC",
        "colab_type": "code",
        "colab": {}
      },
      "source": [
        "# Step 3 - Flattening\n",
        "CNN_Classification.add(Flatten())"
      ],
      "execution_count": null,
      "outputs": []
    },
    {
      "cell_type": "code",
      "metadata": {
        "id": "Zl41TubGc-hV",
        "colab_type": "code",
        "colab": {}
      },
      "source": [
        "# Step 4 - Full connection\n",
        "\n",
        "CNN_Classification.add(Dense(units=128, activation='relu'))\n",
        "CNN_Classification.add(Dense(units=1, activation='sigmoid'))"
      ],
      "execution_count": null,
      "outputs": []
    },
    {
      "cell_type": "code",
      "metadata": {
        "id": "GIFUUXf-dAcx",
        "colab_type": "code",
        "colab": {}
      },
      "source": [
        "# Compiling the CNN\n",
        "CNN_Classification.compile(optimizer ='adam',loss='binary_crossentropy',metrics=['accuracy'])"
      ],
      "execution_count": null,
      "outputs": []
    },
    {
      "cell_type": "code",
      "metadata": {
        "id": "FGb9UKCEdCQF",
        "colab_type": "code",
        "colab": {}
      },
      "source": [
        "from keras.preprocessing.image import ImageDataGenerator\n",
        "\n",
        "train_datagen = ImageDataGenerator(rescale = 1./255,\n",
        "                                   shear_range = 0.2,\n",
        "                                   zoom_range = 0.2,\n",
        "                                   horizontal_flip = True)\n",
        "\n",
        "test_datagen = ImageDataGenerator(rescale = 1./255)\n",
        "\n",
        "training_set = train_datagen.flow_from_directory('/content/Flipcart_Mens_trouser_jeans_dataset/training_dataset',\n",
        "                                                 target_size = (64, 64),\n",
        "                                                 batch_size = 32,\n",
        "                                                 class_mode = 'binary')\n",
        "\n",
        "test_set = test_datagen.flow_from_directory('/content/Flipcart_Mens_trouser_jeans_dataset/test_dataset',\n",
        "                                            target_size = (64, 64),\n",
        "                                            batch_size = 32,\n",
        "                                            class_mode = 'binary')\n",
        "\n",
        "CNN_Classification.fit_generator(training_set,\n",
        "                         steps_per_epoch = 512,\n",
        "                         epochs = 5,\n",
        "                         validation_data = test_set,\n",
        "                         validation_steps = 200)"
      ],
      "execution_count": null,
      "outputs": []
    },
    {
      "cell_type": "code",
      "metadata": {
        "id": "taeUAGL3drsm",
        "colab_type": "code",
        "colab": {}
      },
      "source": [
        "# predictions for dog image using train model\n",
        "import numpy as np\n",
        "from keras.preprocessing import image\n",
        "tested_image = image.load_img('/content/Flipcart_Mens_trouser_jeans_dataset/single_prediction/Mens_jeans_or_trouser_01.jpeg',target_size=(64,64))\n",
        "tested_image = image.img_to_array(tested_image)\n",
        "tested_image = np.expand_dims(tested_image,axis = 0)\n",
        "output = CNN_Classification.predict(tested_image)\n",
        "training_set.class_indices\n",
        "if output[0][0] ==1:\n",
        "  prediction = 'jeans'\n",
        "  print(prediction )\n",
        "else:\n",
        "  prediction = 'trouser'\n",
        "  print(prediction )"
      ],
      "execution_count": null,
      "outputs": []
    },
    {
      "cell_type": "code",
      "metadata": {
        "id": "GHwxsSPWdzjB",
        "colab_type": "code",
        "colab": {}
      },
      "source": [
        "# predictions for cat image using train model\n",
        "import numpy as np\n",
        "from keras.preprocessing import image\n",
        "tested_image = image.load_img('/content/Flipcart_Mens_trouser_jeans_dataset/single_prediction/Mens_jeans_or_trouser_02.jpeg',target_size=(64,64))\n",
        "tested_image = image.img_to_array(tested_image)\n",
        "tested_image = np.expand_dims(tested_image,axis = 0)\n",
        "output = CNN_Classification.predict(tested_image)\n",
        "training_set.class_indices\n",
        "if output[0][0] ==1:\n",
        "  prediction = 'jeans'\n",
        "  print(prediction )\n",
        "else:\n",
        "  prediction = 'trouser'\n",
        "  print(prediction )"
      ],
      "execution_count": null,
      "outputs": []
    },
    {
      "cell_type": "code",
      "metadata": {
        "id": "t2t6cdmho8KX",
        "colab_type": "code",
        "colab": {}
      },
      "source": [
        ""
      ],
      "execution_count": null,
      "outputs": []
    }
  ]
}